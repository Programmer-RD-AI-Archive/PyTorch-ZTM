{
 "cells": [
  {
   "cell_type": "code",
   "execution_count": 1,
   "id": "a3f0e3e9",
   "metadata": {},
   "outputs": [],
   "source": [
    "import sklearn\n",
    "from sklearn.datasets import make_circles\n",
    "# Make 100 Samples\n",
    "n_samples = 10000\n",
    "X,y = make_circles(n_samples,noise=0.0625,random_state=42)"
   ]
  },
  {
   "cell_type": "code",
   "execution_count": 2,
   "id": "c42736b1",
   "metadata": {},
   "outputs": [],
   "source": [
    "import matplotlib.pyplot as plt\n",
    "import numpy as np\n",
    "import torch\n",
    "device = 'cuda' if torch.cuda.is_available() else 'cpu'"
   ]
  },
  {
   "cell_type": "code",
   "execution_count": 3,
   "id": "1511ba13",
   "metadata": {},
   "outputs": [
    {
     "name": "stdout",
     "output_type": "stream",
     "text": [
      "(array([[ 0.09898901,  0.85162427],\n",
      "        [ 1.0948453 , -0.48384393],\n",
      "        [-0.59993055,  0.76388002],\n",
      "        [ 1.02473745, -0.33234668],\n",
      "        [ 0.83608956, -0.52662827]]),\n",
      " array([1, 0, 0, 0, 0]))"
     ]
    }
   ],
   "source": [
    "X[:5],y[:5]"
   ]
  },
  {
   "cell_type": "code",
   "execution_count": 4,
   "id": "6d8d4eb9",
   "metadata": {},
   "outputs": [],
   "source": [
    "# Make a DataFrame of circle data\n",
    "import pandas as pd"
   ]
  },
  {
   "cell_type": "code",
   "execution_count": 5,
   "id": "46a531fc",
   "metadata": {},
   "outputs": [],
   "source": [
    "circles = pd.DataFrame({\"X1\":X[:,0],\"X2\":X[:,1],\"y\":y})"
   ]
  },
  {
   "cell_type": "code",
   "execution_count": 6,
   "id": "fa50bb8a",
   "metadata": {},
   "outputs": [
    {
     "name": "stdout",
     "output_type": "stream",
     "text": [
      "<matplotlib.collections.PathCollection at 0x7f8731f6b1c0>"
     ]
    }
   ],
   "source": [
    "# Visualizing\n",
    "plt.scatter(x=X[:,0],y=X[:,1],c=y,cmap=plt.cm.RdYlBu)"
   ]
  },
  {
   "cell_type": "code",
   "execution_count": 7,
   "id": "eeff29b6",
   "metadata": {},
   "outputs": [
    {
     "name": "stdout",
     "output_type": "stream",
     "text": [
      "(array([0.09898901, 0.85162427]), 1, (2,), ())"
     ]
    }
   ],
   "source": [
    "X_sample = X[0]\n",
    "y_sample = y[0]\n",
    "X_sample,y_sample,X_sample.shape,y_sample.shape"
   ]
  },
  {
   "cell_type": "code",
   "execution_count": 8,
   "id": "9f935bd1",
   "metadata": {},
   "outputs": [
    {
     "name": "stdout",
     "output_type": "stream",
     "text": [
      "'1.9.1'"
     ]
    }
   ],
   "source": [
    "# Turn data into tensors\n",
    "import torch\n",
    "torch.__version__"
   ]
  },
  {
   "cell_type": "code",
   "execution_count": 9,
   "id": "4a661e14",
   "metadata": {},
   "outputs": [
    {
     "name": "stdout",
     "output_type": "stream",
     "text": [
      "dtype('float64')"
     ]
    }
   ],
   "source": [
    "X.dtype"
   ]
  },
  {
   "cell_type": "code",
   "execution_count": 10,
   "id": "ee25125b",
   "metadata": {},
   "outputs": [],
   "source": [
    "X = torch.from_numpy(X).type(torch.float32).to(device)\n",
    "y = torch.from_numpy(y).type(torch.float32).to(device)"
   ]
  },
  {
   "cell_type": "code",
   "execution_count": 11,
   "id": "3dac6edc",
   "metadata": {},
   "outputs": [
    {
     "name": "stdout",
     "output_type": "stream",
     "text": [
      "(tensor([[ 0.0990,  0.8516],\n",
      "         [ 1.0948, -0.4838]], device='cuda:0'),\n",
      " tensor([1., 0.], device='cuda:0'))"
     ]
    }
   ],
   "source": [
    "X[:2],y[:2]"
   ]
  },
  {
   "cell_type": "code",
   "execution_count": 12,
   "id": "16e5cf80",
   "metadata": {},
   "outputs": [],
   "source": [
    "from sklearn.model_selection import train_test_split"
   ]
  },
  {
   "cell_type": "code",
   "execution_count": 13,
   "id": "ce3ddcb3",
   "metadata": {},
   "outputs": [],
   "source": [
    "X_train,X_test,y_train,y_test = train_test_split(X,y,test_size=0.25,random_state=42)"
   ]
  },
  {
   "cell_type": "code",
   "execution_count": 14,
   "id": "b3c36e60",
   "metadata": {},
   "outputs": [
    {
     "name": "stdout",
     "output_type": "stream",
     "text": [
      "(7500, 2500)"
     ]
    }
   ],
   "source": [
    "len(X_train),len(y_test)"
   ]
  },
  {
   "cell_type": "code",
   "execution_count": 15,
   "id": "e9c8e42c",
   "metadata": {},
   "outputs": [],
   "source": [
    "import torch\n",
    "from torch import nn\n",
    "\n",
    "# Make device agnositic code\n",
    "device = 'cuda' if torch.cuda.is_available() else 'cpu'"
   ]
  },
  {
   "cell_type": "code",
   "execution_count": 16,
   "id": "8137c895",
   "metadata": {},
   "outputs": [
    {
     "name": "stdout",
     "output_type": "stream",
     "text": [
      "'cuda'"
     ]
    }
   ],
   "source": [
    "device"
   ]
  },
  {
   "cell_type": "code",
   "execution_count": 17,
   "id": "638416bb",
   "metadata": {},
   "outputs": [],
   "source": [
    "class CircleModelV0(nn.Module):\n",
    "    def __init__(self):\n",
    "        super().__init__()\n",
    "        self.layer_1 = nn.Linear(2,2048) # \n",
    "        self.layer_2 = nn.Linear(2048,1)\n",
    "        self.relu = nn.ReLU()\n",
    "    \n",
    "    def forward(self,X):\n",
    "        # return self.layer_2(self.relu(self.layer_1(X))) # x -> layer_1 -> layer_2\n",
    "        return self.layer_2(self.layer_1(X))"
   ]
  },
  {
   "cell_type": "code",
   "execution_count": 18,
   "id": "588183e1",
   "metadata": {},
   "outputs": [],
   "source": [
    "model_0 = CircleModelV0().to(device)"
   ]
  },
  {
   "cell_type": "code",
   "execution_count": 19,
   "id": "f2c2865a",
   "metadata": {},
   "outputs": [
    {
     "name": "stdout",
     "output_type": "stream",
     "text": [
      "CircleModelV0(\n",
      "  (layer_1): Linear(in_features=2, out_features=2048, bias=True)\n",
      "  (layer_2): Linear(in_features=2048, out_features=1, bias=True)\n",
      "  (relu): ReLU()\n",
      ")"
     ]
    }
   ],
   "source": [
    "model_0"
   ]
  },
  {
   "cell_type": "code",
   "execution_count": 20,
   "id": "15d255b2",
   "metadata": {},
   "outputs": [
    {
     "name": "stdout",
     "output_type": "stream",
     "text": [
      "[Parameter containing:\n",
      " tensor([[-6.1184e-01, -6.2703e-01],\n",
      "         [ 5.1624e-01, -4.1461e-01],\n",
      "         [-1.1006e-01, -4.8437e-01],\n",
      "         ...,\n",
      "         [ 5.7515e-01,  4.9480e-05],\n",
      "         [ 3.8880e-01,  4.4300e-01],\n",
      "         [-3.6424e-01, -2.7166e-01]], device='cuda:0', requires_grad=True),\n",
      " Parameter containing:\n",
      " tensor([-0.1639,  0.5932,  0.7048,  ...,  0.6859,  0.4730, -0.1811],\n",
      "        device='cuda:0', requires_grad=True),\n",
      " Parameter containing:\n",
      " tensor([[-0.0168,  0.0137, -0.0185,  ..., -0.0214, -0.0159, -0.0046]],\n",
      "        device='cuda:0', requires_grad=True),\n",
      " Parameter containing:\n",
      " tensor([0.0196], device='cuda:0', requires_grad=True)]"
     ]
    }
   ],
   "source": [
    "list(model_0.parameters())"
   ]
  },
  {
   "cell_type": "code",
   "execution_count": 21,
   "id": "cbd151f0",
   "metadata": {},
   "outputs": [],
   "source": [
    "# model_0 = nn.Sequential(\n",
    "#     nn.Linear(in_features=2,out_features=64),\n",
    "#     nn.Linear(64,1)\n",
    "# ).to(device)"
   ]
  },
  {
   "cell_type": "code",
   "execution_count": 22,
   "id": "ce852997",
   "metadata": {},
   "outputs": [],
   "source": [
    "untrained_preds = model_0(X_test)"
   ]
  },
  {
   "cell_type": "code",
   "execution_count": 23,
   "id": "581c5581",
   "metadata": {},
   "outputs": [
    {
     "name": "stdout",
     "output_type": "stream",
     "text": [
      "(tensor([0.5938], device='cuda:0', grad_fn=<SelectBackward>),\n",
      " tensor(1., device='cuda:0'))"
     ]
    }
   ],
   "source": [
    "untrained_preds[0],y_test[0]"
   ]
  },
  {
   "cell_type": "code",
   "execution_count": 24,
   "id": "a1ce3f44",
   "metadata": {},
   "outputs": [],
   "source": [
    "loss_fn = nn.BCEWithLogitsLoss() # has the sigmoid function builtin\n",
    "# BCELoss() requries sigmoid to be builtin to the model itself"
   ]
  },
  {
   "cell_type": "code",
   "execution_count": 25,
   "id": "2fc9ff85",
   "metadata": {},
   "outputs": [],
   "source": [
    "optimizer = torch.optim.Adam(model_0.parameters())"
   ]
  },
  {
   "cell_type": "code",
   "execution_count": 26,
   "id": "0ee09e7a",
   "metadata": {},
   "outputs": [],
   "source": [
    "epochs = 10\n",
    "batch_size = 32"
   ]
  },
  {
   "cell_type": "code",
   "execution_count": 27,
   "id": "5b272bce",
   "metadata": {},
   "outputs": [],
   "source": [
    "# Calculate accuracy\n",
    "def accuracy_fn(y_true,y_preds):\n",
    "    correct = torch.eq(y_true,y_preds).sum().item() # gives a False True list -> Tensor no. of true > just normal no.\n",
    "    acc = correct/len(y_preds)*100\n",
    "    return acc"
   ]
  },
  {
   "cell_type": "code",
   "execution_count": 28,
   "id": "4d75ad5b",
   "metadata": {},
   "outputs": [],
   "source": [
    "y_logits = model_0(X_test)"
   ]
  },
  {
   "cell_type": "code",
   "execution_count": 29,
   "id": "e381d87c",
   "metadata": {},
   "outputs": [],
   "source": [
    "y_preds_probs = torch.sigmoid(y_logits)"
   ]
  },
  {
   "cell_type": "code",
   "execution_count": 30,
   "id": "b7090696",
   "metadata": {},
   "outputs": [
    {
     "name": "stdout",
     "output_type": "stream",
     "text": [
      "tensor([[1.],\n",
      "        [1.],\n",
      "        [0.],\n",
      "        ...,\n",
      "        [1.],\n",
      "        [1.],\n",
      "        [1.]], device='cuda:0', grad_fn=<RoundBackward>)"
     ]
    }
   ],
   "source": [
    "y_preds_probs.round()"
   ]
  },
  {
   "cell_type": "code",
   "execution_count": 31,
   "id": "a1839e37",
   "metadata": {},
   "outputs": [],
   "source": [
    "y_pred_labels = torch.round(torch.sigmoid(model_0(X_test)))"
   ]
  },
  {
   "cell_type": "code",
   "execution_count": 32,
   "id": "dc9e1bca",
   "metadata": {},
   "outputs": [],
   "source": [
    "y_preds = torch.round(y_preds_probs)"
   ]
  },
  {
   "cell_type": "code",
   "execution_count": 33,
   "id": "f7dbab98",
   "metadata": {},
   "outputs": [
    {
     "name": "stdout",
     "output_type": "stream",
     "text": [
      "tensor([1., 1., 0.,  ..., 1., 1., 1.], device='cuda:0',\n",
      "       grad_fn=<SqueezeBackward0>)"
     ]
    }
   ],
   "source": [
    "y_preds.squeeze()"
   ]
  },
  {
   "cell_type": "code",
   "execution_count": 34,
   "id": "15ae1581",
   "metadata": {},
   "outputs": [],
   "source": [
    "test_loss_iter = []\n",
    "train_loss_iter = []\n",
    "train_accuracy_iter = []\n",
    "test_accuracy_iter = []"
   ]
  },
  {
   "cell_type": "code",
   "execution_count": 35,
   "id": "057d01d0",
   "metadata": {},
   "outputs": [],
   "source": [
    "from tqdm import tqdm"
   ]
  },
  {
   "cell_type": "code",
   "execution_count": 36,
   "id": "fda13f80",
   "metadata": {},
   "outputs": [],
   "source": [
    "# %%time\n",
    "# epochs = 100\n",
    "# batch_size = 32\n",
    "\n",
    "# for epoch in tqdm(range(epochs)):\n",
    "#     for i in range(0,len(X_train),batch_size):\n",
    "#         X_batch = X_train[i:i+batch_size]\n",
    "#         y_batch = y_train[i:i+batch_size]\n",
    "#         preds = model_0(X_batch)\n",
    "#         true_preds = torch.round(torch.sigmoid(preds.squeeze()))\n",
    "#         loss = loss_fn(preds.squeeze(),y_batch.squeeze())\n",
    "#         optimizer.zero_grad()\n",
    "#         loss.backward()\n",
    "#         optimizer.step()\n",
    "#     with torch.inference_mode():\n",
    "#         y_test_preds = model_0(X_test)\n",
    "#         loss_test = loss_fn(y_test_preds.squeeze(),y_test.squeeze())\n",
    "#         true_test_preds = torch.round(torch.sigmoid(y_test_preds))\n",
    "#     train_loss_iter.append(loss.cpu().detach().numpy())\n",
    "#     test_loss_iter.append(loss_test.cpu().detach().numpy())\n",
    "#     train_accuracy_iter.append(accuracy_fn(y_batch,true_preds))\n",
    "#     test_accuracy_iter.append(accuracy_fn(y_test,true_test_preds))"
   ]
  },
  {
   "cell_type": "code",
   "execution_count": 37,
   "id": "f4712671",
   "metadata": {},
   "outputs": [],
   "source": [
    "for epoch in tqdm(range(epochs)):\n",
    "    model_0.train()\n",
    "    y_logists = model_0(X_train).squeeze()\n",
    "    y_pred = torch.round(torch.sigmoid(y_logits))\n",
    "    loss = loss_fn(y_logists,y_train)\n",
    "    acc = accuracy_fn(y_true=y_train,y_preds=y_pred)\n",
    "    optimizer.zero_grad()\n",
    "    loss.backward()\n",
    "    optimizer.step()\n",
    "    model_0.eval()\n",
    "    with torch.inference_mode():\n",
    "        test_logits = model_0(X_test).squeeze()\n",
    "        test_pred = torch.round(torch.sigmoid(test_logits))\n",
    "        \n",
    "        test_loss = loss_fn(test_logits,y_test)\n",
    "        test_acc = accuracy_fn(y_true=y_test,y_preds=test_pred)\n",
    "        \n",
    "print(f\"\"\"\n",
    "        Loss : {loss}\n",
    "        Accuracy : {acc}\n",
    "        Test Loss : {test_loss}\n",
    "        Test Accuracy : {test_acc}\n",
    "        \"\"\")"
   ]
  },
  {
   "cell_type": "code",
   "execution_count": 38,
   "id": "892492ed",
   "metadata": {},
   "outputs": [],
   "source": [
    "import requests\n",
    "from pathlib import Path\n",
    "\n",
    "# Download helper functions from PyTorch repo\n",
    "if not Path(\"helper_functions.py\").is_file():\n",
    "    request = requests.get(\"https://raw.githubusercontent.com/mrdbourke/pytorch-deep-learning/main/helper_functions.py\")\n",
    "    with open(\"helper_functions.py\",\"wb\") as f:\n",
    "        f.write(request.content)"
   ]
  },
  {
   "cell_type": "code",
   "execution_count": 39,
   "id": "e8c7f689",
   "metadata": {},
   "outputs": [],
   "source": [
    "from helper_functions import *"
   ]
  },
  {
   "cell_type": "code",
   "execution_count": 40,
   "id": "b18cc6ca",
   "metadata": {},
   "outputs": [],
   "source": [
    "plt.figure(figsize=(12,6))\n",
    "plt.subplot(1,2,1)\n",
    "plt.title(\"Train\")\n",
    "plot_decision_boundary(model_0,X_train,y_train)\n",
    "plt.subplot(1,2,2)\n",
    "plt.title(\"Test\")\n",
    "plot_decision_boundary(model_0,X_test,y_test)"
   ]
  },
  {
   "cell_type": "code",
   "execution_count": 41,
   "id": "84d81841",
   "metadata": {},
   "outputs": [],
   "source": [
    "class ClassificationModel(nn.Module):\n",
    "    def __init__(self):\n",
    "        super().__init__()\n",
    "        self.activation = nn.ReLU()\n",
    "        self.linear1 = nn.Linear(2,256)\n",
    "        self.linear2 = nn.Linear(256,512)\n",
    "        self.linear3 = nn.Linear(512,1024)\n",
    "        self.linear4 = nn.Linear(1024,512)\n",
    "        self.linear5_output = nn.Linear(512,1)\n",
    "    \n",
    "    def forward(self,X):\n",
    "        X = self.activation(self.linear1(X))\n",
    "        X = self.activation(self.linear2(X))\n",
    "        X = self.activation(self.linear3(X))\n",
    "        X = self.activation(self.linear4(X))\n",
    "        X = self.linear5_output(X)\n",
    "        return X"
   ]
  },
  {
   "cell_type": "code",
   "execution_count": 42,
   "id": "c29a8494",
   "metadata": {},
   "outputs": [],
   "source": [
    "model = ClassificationModel().to(device)\n",
    "criterion = nn.BCEWithLogitsLoss()\n",
    "optimizer = torch.optim.Adam(model.parameters())"
   ]
  },
  {
   "cell_type": "code",
   "execution_count": 43,
   "id": "c37b6079",
   "metadata": {},
   "outputs": [],
   "source": [
    "epochs = 1\n",
    "batch_size = 32"
   ]
  },
  {
   "cell_type": "code",
   "execution_count": 44,
   "id": "e4c5db05",
   "metadata": {},
   "outputs": [],
   "source": [
    "import wandb"
   ]
  },
  {
   "cell_type": "code",
   "execution_count": 45,
   "id": "58f83a20",
   "metadata": {},
   "outputs": [
    {
     "data": {
      "text/html": [
       "wandb version 0.15.4 is available!  To upgrade, please run:\n",
       " $ pip install wandb --upgrade"
      ],
      "text/plain": [
       "<IPython.core.display.HTML object>"
      ]
     },
     "metadata": {},
     "output_type": "display_data"
    },
    {
     "data": {
      "text/html": [
       "Tracking run with wandb version 0.12.15"
      ],
      "text/plain": [
       "<IPython.core.display.HTML object>"
      ]
     },
     "metadata": {},
     "output_type": "display_data"
    },
    {
     "data": {
      "text/html": [
       "Run data is saved locally in <code>/media/indika/Sync/Programmer-RD-AI/Programming/Learning/Pytorch/wandb/run-20230629_135630-1grejnuj</code>"
      ],
      "text/plain": [
       "<IPython.core.display.HTML object>"
      ]
     },
     "metadata": {},
     "output_type": "display_data"
    },
    {
     "data": {
      "text/html": [
       "Syncing run <strong><a href=\"https://wandb.ai/ranuga-d/02/runs/1grejnuj\" target=\"_blank\">Adjusted</a></strong> to <a href=\"https://wandb.ai/ranuga-d/02\" target=\"_blank\">Weights & Biases</a> (<a href=\"https://wandb.me/run\" target=\"_blank\">docs</a>)<br/>"
      ],
      "text/plain": [
       "<IPython.core.display.HTML object>"
      ]
     },
     "metadata": {},
     "output_type": "display_data"
    }
   ],
   "source": [
    "wandb.init(project=\"02\",name=\"Adjusted\")\n",
    "for epoch in tqdm(range(epochs)):\n",
    "    for i in range(0,len(X_train),batch_size):\n",
    "        torch.cuda.empty_cache()\n",
    "        model.train()\n",
    "        X_batch = X_train[i:i+batch_size]\n",
    "        y_batch = y_train[i:i+batch_size]\n",
    "        preds = model(X_batch).squeeze()\n",
    "        norm_preds = torch.round(torch.sigmoid(preds))\n",
    "        loss = criterion(preds,y_batch)\n",
    "        optimizer.zero_grad()\n",
    "        loss.backward()\n",
    "        optimizer.step()\n",
    "        model.eval()\n",
    "        with torch.inference_mode():\n",
    "            train_preds = model(X_train).squeeze()\n",
    "            test_preds = model(X_test).squeeze()\n",
    "            loss_test = criterion(test_preds,y_test)\n",
    "            loss_train = criterion(train_preds,y_train)\n",
    "            train_preds = torch.round(torch.sigmoid(train_preds))\n",
    "            test_preds = torch.round(torch.sigmoid(test_preds))\n",
    "            acc_train = accuracy_fn(y_train,train_preds)\n",
    "            acc_test = accuracy_fn(y_test,test_preds)\n",
    "            wandb.log({\n",
    "                \"Train Loss\":loss_train,\n",
    "                \"Test Loss\":loss_test,\n",
    "                \"Train Accuracy\": acc_train,\n",
    "                \"Test Accuracy\": acc_test\n",
    "            })\n",
    "wandb.finish()"
   ]
  }
 ],
 "metadata": {
  "kernelspec": {
   "display_name": "Python 3",
   "language": "python",
   "name": "python3"
  },
  "language_info": {
   "codemirror_mode": {
    "name": "ipython",
    "version": 3
   },
   "file_extension": ".py",
   "mimetype": "text/x-python",
   "name": "python",
   "nbconvert_exporter": "python",
   "pygments_lexer": "ipython3",
   "version": "3.8.8"
  }
 },
 "nbformat": 4,
 "nbformat_minor": 5
}
