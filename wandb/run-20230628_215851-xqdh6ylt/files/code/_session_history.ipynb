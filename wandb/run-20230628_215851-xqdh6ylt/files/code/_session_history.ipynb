{
 "cells": [
  {
   "cell_type": "code",
   "execution_count": 1,
   "id": "233f751a",
   "metadata": {},
   "outputs": [],
   "source": [
    "import sklearn\n",
    "from sklearn.datasets import make_circles\n",
    "# Make 100 Samples\n",
    "n_samples = 25000\n",
    "X,y = make_circles(n_samples,noise=0.0625,random_state=42)"
   ]
  },
  {
   "cell_type": "code",
   "execution_count": 2,
   "id": "e60c8ebd",
   "metadata": {},
   "outputs": [],
   "source": [
    "import matplotlib.pyplot as plt\n",
    "import numpy as np\n",
    "import torch\n",
    "device = 'cuda' if torch.cuda.is_available() else 'cpu'"
   ]
  },
  {
   "cell_type": "code",
   "execution_count": 3,
   "id": "cda02138",
   "metadata": {},
   "outputs": [
    {
     "name": "stdout",
     "output_type": "stream",
     "text": [
      "(array([[-0.89199281, -0.32863604],\n",
      "        [ 0.81824047, -0.31242069],\n",
      "        [ 0.17614256, -1.14754116],\n",
      "        [ 0.70026218,  0.35655876],\n",
      "        [ 0.6002745 ,  0.63273534]]),\n",
      " array([0, 1, 0, 1, 1]))"
     ]
    }
   ],
   "source": [
    "X[:5],y[:5]"
   ]
  },
  {
   "cell_type": "code",
   "execution_count": 4,
   "id": "f083d487",
   "metadata": {},
   "outputs": [],
   "source": [
    "# Make a DataFrame of circle data\n",
    "import pandas as pd"
   ]
  },
  {
   "cell_type": "code",
   "execution_count": 5,
   "id": "56ffe541",
   "metadata": {},
   "outputs": [],
   "source": [
    "circles = pd.DataFrame({\"X1\":X[:,0],\"X2\":X[:,1],\"y\":y})"
   ]
  },
  {
   "cell_type": "code",
   "execution_count": 6,
   "id": "c7940b2d",
   "metadata": {},
   "outputs": [
    {
     "name": "stdout",
     "output_type": "stream",
     "text": [
      "<matplotlib.collections.PathCollection at 0x7f365aa849d0>"
     ]
    }
   ],
   "source": [
    "# Visualizing\n",
    "plt.scatter(x=X[:,0],y=X[:,1],c=y,cmap=plt.cm.RdYlBu)"
   ]
  },
  {
   "cell_type": "code",
   "execution_count": 7,
   "id": "ae0a8e27",
   "metadata": {},
   "outputs": [
    {
     "name": "stdout",
     "output_type": "stream",
     "text": [
      "(array([-0.89199281, -0.32863604]), 0, (2,), ())"
     ]
    }
   ],
   "source": [
    "X_sample = X[0]\n",
    "y_sample = y[0]\n",
    "X_sample,y_sample,X_sample.shape,y_sample.shape"
   ]
  },
  {
   "cell_type": "code",
   "execution_count": 8,
   "id": "c7e44c62",
   "metadata": {},
   "outputs": [
    {
     "name": "stdout",
     "output_type": "stream",
     "text": [
      "'1.9.1'"
     ]
    }
   ],
   "source": [
    "# Turn data into tensors\n",
    "import torch\n",
    "torch.__version__"
   ]
  },
  {
   "cell_type": "code",
   "execution_count": 9,
   "id": "570a0d5a",
   "metadata": {},
   "outputs": [
    {
     "name": "stdout",
     "output_type": "stream",
     "text": [
      "dtype('float64')"
     ]
    }
   ],
   "source": [
    "X.dtype"
   ]
  },
  {
   "cell_type": "code",
   "execution_count": 10,
   "id": "81e53805",
   "metadata": {},
   "outputs": [],
   "source": [
    "X = torch.from_numpy(X).type(torch.float32).to(device)\n",
    "y = torch.from_numpy(y).type(torch.float32).to(device)"
   ]
  },
  {
   "cell_type": "code",
   "execution_count": 11,
   "id": "5c2d8952",
   "metadata": {},
   "outputs": [
    {
     "name": "stdout",
     "output_type": "stream",
     "text": [
      "(tensor([[-0.8920, -0.3286],\n",
      "         [ 0.8182, -0.3124]], device='cuda:0'),\n",
      " tensor([0., 1.], device='cuda:0'))"
     ]
    }
   ],
   "source": [
    "X[:2],y[:2]"
   ]
  },
  {
   "cell_type": "code",
   "execution_count": 12,
   "id": "d8713cdd",
   "metadata": {},
   "outputs": [],
   "source": [
    "from sklearn.model_selection import train_test_split"
   ]
  },
  {
   "cell_type": "code",
   "execution_count": 13,
   "id": "c4a5c898",
   "metadata": {},
   "outputs": [],
   "source": [
    "X_train,X_test,y_train,y_test = train_test_split(X,y,test_size=0.25,random_state=42)"
   ]
  },
  {
   "cell_type": "code",
   "execution_count": 14,
   "id": "7871c182",
   "metadata": {},
   "outputs": [
    {
     "name": "stdout",
     "output_type": "stream",
     "text": [
      "(18750, 6250)"
     ]
    }
   ],
   "source": [
    "len(X_train),len(y_test)"
   ]
  },
  {
   "cell_type": "code",
   "execution_count": 15,
   "id": "468fa314",
   "metadata": {},
   "outputs": [],
   "source": [
    "import torch\n",
    "from torch import nn\n",
    "\n",
    "# Make device agnositic code\n",
    "device = 'cuda' if torch.cuda.is_available() else 'cpu'"
   ]
  },
  {
   "cell_type": "code",
   "execution_count": 16,
   "id": "f0159c8d",
   "metadata": {},
   "outputs": [
    {
     "name": "stdout",
     "output_type": "stream",
     "text": [
      "'cuda'"
     ]
    }
   ],
   "source": [
    "device"
   ]
  },
  {
   "cell_type": "code",
   "execution_count": 17,
   "id": "17c09fea",
   "metadata": {},
   "outputs": [],
   "source": [
    "class CircleModelV0(nn.Module):\n",
    "    def __init__(self):\n",
    "        super().__init__()\n",
    "        self.layer_1 = nn.Linear(2,2048) # \n",
    "        self.layer_2 = nn.Linear(2048,1)\n",
    "        self.relu = nn.ReLU()\n",
    "    \n",
    "    def forward(self,X):\n",
    "        # return self.layer_2(self.relu(self.layer_1(X))) # x -> layer_1 -> layer_2\n",
    "        return self.layer_2(self.layer_1(X))"
   ]
  },
  {
   "cell_type": "code",
   "execution_count": 18,
   "id": "66a79158",
   "metadata": {},
   "outputs": [],
   "source": [
    "model_0 = CircleModelV0().to(device)"
   ]
  },
  {
   "cell_type": "code",
   "execution_count": 19,
   "id": "f691acd9",
   "metadata": {},
   "outputs": [
    {
     "name": "stdout",
     "output_type": "stream",
     "text": [
      "CircleModelV0(\n",
      "  (layer_1): Linear(in_features=2, out_features=2048, bias=True)\n",
      "  (layer_2): Linear(in_features=2048, out_features=1, bias=True)\n",
      "  (relu): ReLU()\n",
      ")"
     ]
    }
   ],
   "source": [
    "model_0"
   ]
  },
  {
   "cell_type": "code",
   "execution_count": 20,
   "id": "32935793",
   "metadata": {},
   "outputs": [
    {
     "name": "stdout",
     "output_type": "stream",
     "text": [
      "[Parameter containing:\n",
      " tensor([[ 0.2836, -0.2584],\n",
      "         [-0.0089,  0.2780],\n",
      "         [ 0.5954,  0.2004],\n",
      "         ...,\n",
      "         [-0.6537,  0.6738],\n",
      "         [-0.6466, -0.4224],\n",
      "         [ 0.2014,  0.3830]], device='cuda:0', requires_grad=True),\n",
      " Parameter containing:\n",
      " tensor([-0.4754, -0.4494,  0.1572,  ..., -0.4992,  0.2673, -0.3115],\n",
      "        device='cuda:0', requires_grad=True),\n",
      " Parameter containing:\n",
      " tensor([[-0.0015, -0.0003,  0.0075,  ..., -0.0095,  0.0074, -0.0138]],\n",
      "        device='cuda:0', requires_grad=True),\n",
      " Parameter containing:\n",
      " tensor([0.0014], device='cuda:0', requires_grad=True)]"
     ]
    }
   ],
   "source": [
    "list(model_0.parameters())"
   ]
  },
  {
   "cell_type": "code",
   "execution_count": 21,
   "id": "e1c87335",
   "metadata": {},
   "outputs": [],
   "source": [
    "# model_0 = nn.Sequential(\n",
    "#     nn.Linear(in_features=2,out_features=64),\n",
    "#     nn.Linear(64,1)\n",
    "# ).to(device)"
   ]
  },
  {
   "cell_type": "code",
   "execution_count": 22,
   "id": "198f294c",
   "metadata": {},
   "outputs": [],
   "source": [
    "untrained_preds = model_0(X_test)"
   ]
  },
  {
   "cell_type": "code",
   "execution_count": 23,
   "id": "3cebbf16",
   "metadata": {},
   "outputs": [
    {
     "name": "stdout",
     "output_type": "stream",
     "text": [
      "(tensor([-0.0510], device='cuda:0', grad_fn=<SelectBackward>),\n",
      " tensor(0., device='cuda:0'))"
     ]
    }
   ],
   "source": [
    "untrained_preds[0],y_test[0]"
   ]
  },
  {
   "cell_type": "code",
   "execution_count": 24,
   "id": "096af1fa",
   "metadata": {},
   "outputs": [],
   "source": [
    "loss_fn = nn.BCEWithLogitsLoss() # has the sigmoid function builtin\n",
    "# BCELoss() requries sigmoid to be builtin to the model itself"
   ]
  },
  {
   "cell_type": "code",
   "execution_count": 25,
   "id": "33e289b3",
   "metadata": {},
   "outputs": [],
   "source": [
    "optimizer = torch.optim.Adam(model_0.parameters())"
   ]
  },
  {
   "cell_type": "code",
   "execution_count": 26,
   "id": "6ef51b66",
   "metadata": {},
   "outputs": [],
   "source": [
    "epochs = 10\n",
    "batch_size = 32"
   ]
  },
  {
   "cell_type": "code",
   "execution_count": 27,
   "id": "d6833abc",
   "metadata": {},
   "outputs": [],
   "source": [
    "# Calculate accuracy\n",
    "def accuracy_fn(y_true,y_preds):\n",
    "    correct = torch.eq(y_true,y_preds).sum().item() # gives a False True list -> Tensor no. of true > just normal no.\n",
    "    acc = correct/len(y_preds)*100\n",
    "    return acc"
   ]
  },
  {
   "cell_type": "code",
   "execution_count": 28,
   "id": "ce66d5a2",
   "metadata": {},
   "outputs": [],
   "source": [
    "y_logits = model_0(X_test)"
   ]
  },
  {
   "cell_type": "code",
   "execution_count": 29,
   "id": "9ed2b91d",
   "metadata": {},
   "outputs": [],
   "source": [
    "y_preds_probs = torch.sigmoid(y_logits)"
   ]
  },
  {
   "cell_type": "code",
   "execution_count": 30,
   "id": "b8a705dd",
   "metadata": {},
   "outputs": [
    {
     "name": "stdout",
     "output_type": "stream",
     "text": [
      "tensor([[0.],\n",
      "        [0.],\n",
      "        [0.],\n",
      "        ...,\n",
      "        [0.],\n",
      "        [0.],\n",
      "        [0.]], device='cuda:0', grad_fn=<RoundBackward>)"
     ]
    }
   ],
   "source": [
    "y_preds_probs.round()"
   ]
  },
  {
   "cell_type": "code",
   "execution_count": 31,
   "id": "1b4d73ee",
   "metadata": {},
   "outputs": [],
   "source": [
    "y_pred_labels = torch.round(torch.sigmoid(model_0(X_test)))"
   ]
  },
  {
   "cell_type": "code",
   "execution_count": 32,
   "id": "3c3e76a7",
   "metadata": {},
   "outputs": [],
   "source": [
    "y_preds = torch.round(y_preds_probs)"
   ]
  },
  {
   "cell_type": "code",
   "execution_count": 33,
   "id": "6e7c1b8c",
   "metadata": {},
   "outputs": [
    {
     "name": "stdout",
     "output_type": "stream",
     "text": [
      "tensor([0., 0., 0.,  ..., 0., 0., 0.], device='cuda:0',\n",
      "       grad_fn=<SqueezeBackward0>)"
     ]
    }
   ],
   "source": [
    "y_preds.squeeze()"
   ]
  },
  {
   "cell_type": "code",
   "execution_count": 34,
   "id": "95e7d0ac",
   "metadata": {},
   "outputs": [],
   "source": [
    "test_loss_iter = []\n",
    "train_loss_iter = []\n",
    "train_accuracy_iter = []\n",
    "test_accuracy_iter = []"
   ]
  },
  {
   "cell_type": "code",
   "execution_count": 35,
   "id": "83bdfae6",
   "metadata": {},
   "outputs": [],
   "source": [
    "from tqdm import tqdm"
   ]
  },
  {
   "cell_type": "code",
   "execution_count": 36,
   "id": "b5cccfe1",
   "metadata": {},
   "outputs": [],
   "source": [
    "# %%time\n",
    "# epochs = 100\n",
    "# batch_size = 32\n",
    "\n",
    "# for epoch in tqdm(range(epochs)):\n",
    "#     for i in range(0,len(X_train),batch_size):\n",
    "#         X_batch = X_train[i:i+batch_size]\n",
    "#         y_batch = y_train[i:i+batch_size]\n",
    "#         preds = model_0(X_batch)\n",
    "#         true_preds = torch.round(torch.sigmoid(preds.squeeze()))\n",
    "#         loss = loss_fn(preds.squeeze(),y_batch.squeeze())\n",
    "#         optimizer.zero_grad()\n",
    "#         loss.backward()\n",
    "#         optimizer.step()\n",
    "#     with torch.inference_mode():\n",
    "#         y_test_preds = model_0(X_test)\n",
    "#         loss_test = loss_fn(y_test_preds.squeeze(),y_test.squeeze())\n",
    "#         true_test_preds = torch.round(torch.sigmoid(y_test_preds))\n",
    "#     train_loss_iter.append(loss.cpu().detach().numpy())\n",
    "#     test_loss_iter.append(loss_test.cpu().detach().numpy())\n",
    "#     train_accuracy_iter.append(accuracy_fn(y_batch,true_preds))\n",
    "#     test_accuracy_iter.append(accuracy_fn(y_test,true_test_preds))"
   ]
  },
  {
   "cell_type": "code",
   "execution_count": 37,
   "id": "950020fa",
   "metadata": {},
   "outputs": [],
   "source": [
    "for epoch in tqdm(range(epochs)):\n",
    "    model_0.train()\n",
    "    y_logists = model_0(X_train).squeeze()\n",
    "    y_pred = torch.round(torch.sigmoid(y_logits))\n",
    "    loss = loss_fn(y_logists,y_train)\n",
    "    acc = accuracy_fn(y_true=y_train,y_preds=y_pred)\n",
    "    optimizer.zero_grad()\n",
    "    loss.backward()\n",
    "    optimizer.step()\n",
    "    model_0.eval()\n",
    "    with torch.inference_mode():\n",
    "        test_logits = model_0(X_test).squeeze()\n",
    "        test_pred = torch.round(torch.sigmoid(test_logits))\n",
    "        \n",
    "        test_loss = loss_fn(test_logits,y_test)\n",
    "        test_acc = accuracy_fn(y_true=y_test,y_preds=test_pred)\n",
    "        \n",
    "print(f\"\"\"\n",
    "        Loss : {loss}\n",
    "        Accuracy : {acc}\n",
    "        Test Loss : {test_loss}\n",
    "        Test Accuracy : {test_acc}\n",
    "        \"\"\")"
   ]
  },
  {
   "cell_type": "code",
   "execution_count": 38,
   "id": "952168cd",
   "metadata": {},
   "outputs": [],
   "source": [
    "import requests\n",
    "from pathlib import Path\n",
    "\n",
    "# Download helper functions from PyTorch repo\n",
    "if not Path(\"helper_functions.py\").is_file():\n",
    "    request = requests.get(\"https://raw.githubusercontent.com/mrdbourke/pytorch-deep-learning/main/helper_functions.py\")\n",
    "    with open(\"helper_functions.py\",\"wb\") as f:\n",
    "        f.write(request.content)"
   ]
  },
  {
   "cell_type": "code",
   "execution_count": 39,
   "id": "95167058",
   "metadata": {},
   "outputs": [],
   "source": [
    "from helper_functions import *"
   ]
  },
  {
   "cell_type": "code",
   "execution_count": 40,
   "id": "ff56c3a2",
   "metadata": {},
   "outputs": [],
   "source": [
    "plt.figure(figsize=(12,6))\n",
    "plt.subplot(1,2,1)\n",
    "plt.title(\"Train\")\n",
    "plot_decision_boundary(model_0,X_train,y_train)\n",
    "plt.subplot(1,2,2)\n",
    "plt.title(\"Test\")\n",
    "plot_decision_boundary(model_0,X_test,y_test)"
   ]
  },
  {
   "cell_type": "code",
   "execution_count": 41,
   "id": "9eb52f66",
   "metadata": {},
   "outputs": [],
   "source": [
    "class ClassificationModel(nn.Module):\n",
    "    def __init__(self):\n",
    "        super().__init__()\n",
    "        self.activation = nn.ReLU()\n",
    "        self.linear1 = nn.Linear(2,256)\n",
    "        self.linear2 = nn.Linear(256,512)\n",
    "        self.linear3 = nn.Linear(512,1024)\n",
    "        self.linear4 = nn.Linear(1024,512)\n",
    "        self.linear5_output = nn.Linear(512,1)\n",
    "    \n",
    "    def forward(self,X):\n",
    "        X = self.activation(self.linear1(X))\n",
    "        X = self.activation(self.linear2(X))\n",
    "        X = self.activation(self.linear3(X))\n",
    "        X = self.activation(self.linear4(X))\n",
    "        X = self.linear5_output(X)\n",
    "        return X"
   ]
  },
  {
   "cell_type": "code",
   "execution_count": 42,
   "id": "16253fdb",
   "metadata": {},
   "outputs": [],
   "source": [
    "model = ClassificationModel().to(device)\n",
    "criterion = nn.BCEWithLogitsLoss()\n",
    "optimizer = torch.optim.Adam(model.parameters())"
   ]
  },
  {
   "cell_type": "code",
   "execution_count": 43,
   "id": "b01ac3b5",
   "metadata": {},
   "outputs": [],
   "source": [
    "epochs = 150\n",
    "batch_size = 32"
   ]
  },
  {
   "cell_type": "code",
   "execution_count": 44,
   "id": "cb3baaac",
   "metadata": {},
   "outputs": [],
   "source": [
    "import wandb"
   ]
  },
  {
   "cell_type": "code",
   "execution_count": 45,
   "id": "e2ae9b8f",
   "metadata": {},
   "outputs": [
    {
     "data": {
      "text/html": [
       "wandb version 0.15.4 is available!  To upgrade, please run:\n",
       " $ pip install wandb --upgrade"
      ],
      "text/plain": [
       "<IPython.core.display.HTML object>"
      ]
     },
     "metadata": {},
     "output_type": "display_data"
    },
    {
     "data": {
      "text/html": [
       "Tracking run with wandb version 0.12.15"
      ],
      "text/plain": [
       "<IPython.core.display.HTML object>"
      ]
     },
     "metadata": {},
     "output_type": "display_data"
    },
    {
     "data": {
      "text/html": [
       "Run data is saved locally in <code>/media/indika/Sync/Programmer-RD-AI/Programming/Learning/Pytorch/wandb/run-20230628_215851-xqdh6ylt</code>"
      ],
      "text/plain": [
       "<IPython.core.display.HTML object>"
      ]
     },
     "metadata": {},
     "output_type": "display_data"
    },
    {
     "data": {
      "text/html": [
       "Syncing run <strong><a href=\"https://wandb.ai/ranuga-d/02/runs/xqdh6ylt\" target=\"_blank\">Adjusted</a></strong> to <a href=\"https://wandb.ai/ranuga-d/02\" target=\"_blank\">Weights & Biases</a> (<a href=\"https://wandb.me/run\" target=\"_blank\">docs</a>)<br/>"
      ],
      "text/plain": [
       "<IPython.core.display.HTML object>"
      ]
     },
     "metadata": {},
     "output_type": "display_data"
    }
   ],
   "source": [
    "wandb.init(project=\"02\",name=\"Adjusted\")\n",
    "for epoch in tqdm(range(epochs)):\n",
    "    for i in range(0,len(X_train),batch_size):\n",
    "        torch.cuda.empty_cache()\n",
    "        model.train()\n",
    "        X_batch = X_train[i:i+batch_size]\n",
    "        y_batch = y_train[i:i+batch_size]\n",
    "        preds = model(X_batch).squeeze()\n",
    "        norm_preds = torch.round(torch.sigmoid(preds))\n",
    "        loss = criterion(preds,y_batch)\n",
    "        optimizer.zero_grad()\n",
    "        loss.backward()\n",
    "        optimizer.step()\n",
    "        model.eval()\n",
    "        with torch.inference_mode():\n",
    "            train_preds = model(X_train).squeeze()\n",
    "            test_preds = model(X_test).squeeze()\n",
    "            loss_test = criterion(test_preds,y_test)\n",
    "            loss_train = criterion(train_preds,y_train)\n",
    "            train_preds = torch.round(torch.sigmoid(train_preds))\n",
    "            test_preds = torch.round(torch.sigmoid(test_preds))\n",
    "            acc_train = accuracy_fn(y_train,train_preds)\n",
    "            acc_test = accuracy_fn(y_test,test_preds)\n",
    "            wandb.log({\n",
    "                \"Train Loss\":loss_train,\n",
    "                \"Test Loss\":loss_test,\n",
    "                \"Train Accuracy\": acc_train,\n",
    "                \"Test Accuracy\": acc_test\n",
    "            })\n",
    "wandb.finish()"
   ]
  }
 ],
 "metadata": {
  "kernelspec": {
   "display_name": "Python 3",
   "language": "python",
   "name": "python3"
  },
  "language_info": {
   "codemirror_mode": {
    "name": "ipython",
    "version": 3
   },
   "file_extension": ".py",
   "mimetype": "text/x-python",
   "name": "python",
   "nbconvert_exporter": "python",
   "pygments_lexer": "ipython3",
   "version": "3.8.8"
  }
 },
 "nbformat": 4,
 "nbformat_minor": 5
}
