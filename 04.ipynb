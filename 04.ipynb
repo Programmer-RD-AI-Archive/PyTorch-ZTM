{
 "cells": [
  {
   "cell_type": "markdown",
   "id": "501aa46e-5a51-4905-abba-9c9d162887ff",
   "metadata": {},
   "source": [
    "# PyTorch Custom Datasets Video Notebook\n",
    "\n",
    "We've used some datasets with PyTorch before.\n",
    "\n",
    "But how do you get your own data into PyTorch?\n",
    "\n",
    "One of the ways to do is via: custom Datasets\n",
    "\n",
    "## Domain libraries\n",
    "\n",
    "Depending on what you're working on, vision, text, audio, recommendation, you'll want to look into each of PyTorch domain libraries for existing data loading functions and customalizable functionsm"
   ]
  },
  {
   "cell_type": "code",
   "execution_count": 1,
   "id": "27b3dc99-7f43-4eb6-8a74-fc1b3e4fa86b",
   "metadata": {},
   "outputs": [
    {
     "data": {
      "text/plain": [
       "'1.9.1'"
      ]
     },
     "execution_count": 1,
     "metadata": {},
     "output_type": "execute_result"
    }
   ],
   "source": [
    "import torch\n",
    "from torch import nn,optim\n",
    "torch.__version__"
   ]
  },
  {
   "cell_type": "code",
   "execution_count": 2,
   "id": "f1cc4468-8832-4c43-b801-965f7a1575f2",
   "metadata": {},
   "outputs": [],
   "source": [
    "device = 'cuda' if torch.cuda.is_available() else 'cpu'"
   ]
  },
  {
   "cell_type": "markdown",
   "id": "53fad586-2be6-4902-82ed-59465dbb01fc",
   "metadata": {},
   "source": [
    "## Get data\n",
    "\n",
    "Our dataset is a subset of the Food101 dataset.\n",
    "\n",
    "Food101 start 101 different classes of food. (750,250)\n",
    "\n",
    "Our dataset starts with 3 classes of fodd and only 10% of the images(75 and 25 testing)"
   ]
  },
  {
   "cell_type": "code",
   "execution_count": 3,
   "id": "209c6a08-719f-4af8-a58c-377a1f873757",
   "metadata": {},
   "outputs": [],
   "source": [
    "import requests\n",
    "import zipfile\n",
    "from pathlib import Path\n",
    "\n",
    "# Setup path to a data folder\n",
    "\n",
    "data_path = Path(\"data/04/01\")\n",
    "\n",
    "data_path.mkdir(parents=True,exist_ok=True)\n",
    "\n",
    "with open(data_path / \"data.zip\",'wb') as f:\n",
    "    request = requests.get(\"https://github.com/mrdbourke/pytorch-deep-learning/raw/main/data/pizza_steak_sushi.zip\")\n",
    "    f.write(request.content)\n",
    "with zipfile.ZipFile(data_path / \"data.zip\", 'r') as zip_ref:\n",
    "    zip_ref.extractall(data_path)"
   ]
  },
  {
   "cell_type": "code",
   "execution_count": 4,
   "id": "88a16a48-0f37-4f6e-a179-f19319e83244",
   "metadata": {},
   "outputs": [],
   "source": [
    "import os\n",
    "def walk_through_dir(dir_path):\n",
    "    \"\"\"Walks through dir_path returning its contents.\"\"\"\n",
    "    for dirpath,dirnames,filenames in os.walk(dir_path):\n",
    "        print(f\"There are {len(dirnames)} and {len(filenames)} images in {dirpath}\")"
   ]
  },
  {
   "cell_type": "code",
   "execution_count": 5,
   "id": "cba4eb63-9135-46ff-8b77-eb5fec60cb85",
   "metadata": {},
   "outputs": [
    {
     "name": "stdout",
     "output_type": "stream",
     "text": [
      "There are 2 and 1 images in data/04/01\n",
      "There are 3 and 0 images in data/04/01/train\n",
      "There are 0 and 75 images in data/04/01/train/steak\n",
      "There are 1 and 78 images in data/04/01/train/pizza\n",
      "There are 0 and 3 images in data/04/01/train/pizza/.ipynb_checkpoints\n",
      "There are 0 and 72 images in data/04/01/train/sushi\n",
      "There are 3 and 0 images in data/04/01/test\n",
      "There are 0 and 19 images in data/04/01/test/steak\n",
      "There are 0 and 25 images in data/04/01/test/pizza\n",
      "There are 0 and 31 images in data/04/01/test/sushi\n"
     ]
    }
   ],
   "source": [
    "walk_through_dir(data_path)"
   ]
  },
  {
   "cell_type": "markdown",
   "id": "e5eb494b-a379-4123-acef-ae52c1c83bd7",
   "metadata": {},
   "source": [
    "## Visualizing an image\n",
    "\n",
    "Let's write some code to:\n",
    "1. Get all of the image paths\n",
    "2. Pick a random image path using `random.choice()`\n",
    "3. Get the image class name using `pathlib.Path.parent.stem`\n",
    "4. Science we're working with images, let open it with PIL\n",
    "5. Show and tell metadata"
   ]
  },
  {
   "cell_type": "code",
   "execution_count": null,
   "id": "a908ae02-c671-4567-84d7-5d25e4d37c03",
   "metadata": {},
   "outputs": [],
   "source": [
    "import random\n",
    "from PIL import Image"
   ]
  }
 ],
 "metadata": {
  "kernelspec": {
   "display_name": "Python 3 (ipykernel)",
   "language": "python",
   "name": "python3"
  },
  "language_info": {
   "codemirror_mode": {
    "name": "ipython",
    "version": 3
   },
   "file_extension": ".py",
   "mimetype": "text/x-python",
   "name": "python",
   "nbconvert_exporter": "python",
   "pygments_lexer": "ipython3",
   "version": "3.8.8"
  }
 },
 "nbformat": 4,
 "nbformat_minor": 5
}
