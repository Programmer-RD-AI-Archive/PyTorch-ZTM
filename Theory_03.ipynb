{
 "cells": [
  {
   "cell_type": "markdown",
   "id": "d2a7fee3-2187-47bd-9bd1-728eb967c92f",
   "metadata": {},
   "source": [
    "# CNN\n",
    "\n",
    "A type artifical neural network, it has convolutional and non covolutional layers\n",
    "\n",
    "There are many filters in the convolutional layers and they have specific tasks of detecting certain parts of the image for example textures, edges, etc...\n",
    "\n",
    "Essentially there is filter where it goes over the image this is the kernal size then it produces a product of the output and this happens over and over again, the weights and bias of the filter is what is changed overtime\n",
    "\n",
    "Pading is where an outside frame of 0's are created on the exterior of an image so that when the kernal goes over, each of the original images pixels gets included in more kernal analysis"
   ]
  },
  {
   "cell_type": "markdown",
   "id": "fcf29831-9d66-4746-8da0-17b93e5c0da9",
   "metadata": {},
   "source": [
    "# Max Pool\n",
    "\n",
    "Reduces the no. of pixels\n",
    "\n",
    "We give a filter size, the stride is how many pixels the filter moves\n",
    "\n",
    "From every filter uses it takes the highest one  \n",
    "\n",
    "Its helful becz it reduces parameters() and computational needs and reduce over fitting, this is due to a sort of generalisation "
   ]
  },
  {
   "cell_type": "markdown",
   "id": "6d29d149-b1c1-40a4-aa7f-fd3bb0f0386b",
   "metadata": {},
   "source": [
    "# Precision, Recall, & F1 Score\n",
    "\n",
    "TP - True Positive (Correctly Guessed as True)\n",
    "FP - False Positive (Wrongly Gussed as True)\n",
    "FN - Fale Negative (Wronly Guessed as False)\n",
    "TN - True Negative (Correctly Gussed as False\n",
    "\n",
    "## Accuracy\n",
    "\n",
    "Accuracy = TP + TN / TP + TN + FP + FN\n",
    "\n",
    "How many answers we got, this does take care if that correct data is True or False\n",
    "\n",
    "It does work that well in biased datasets\n",
    "\n",
    "## Preccision\n",
    "\n",
    "Precision = TP / TP + FP\n",
    "\n",
    "Minimise the number of wrong positive / negative\n",
    "\n",
    "## Recall\n",
    "\n",
    "Precision = TP / TP + FN\n",
    "\n",
    "It asks the question the postive labels we got out of all the possible labels\n",
    "\n",
    "## F1 Score\n",
    "\n",
    "F1 = 2 * TP / 2 * TP + FP + FN\n",
    "\n",
    "How quality the data is"
   ]
  },
  {
   "cell_type": "code",
   "execution_count": null,
   "id": "8b6e9816-33b4-40a8-9ce2-f3da6e6310e3",
   "metadata": {},
   "outputs": [],
   "source": []
  }
 ],
 "metadata": {
  "kernelspec": {
   "display_name": "Python 3 (ipykernel)",
   "language": "python",
   "name": "python3"
  },
  "language_info": {
   "codemirror_mode": {
    "name": "ipython",
    "version": 3
   },
   "file_extension": ".py",
   "mimetype": "text/x-python",
   "name": "python",
   "nbconvert_exporter": "python",
   "pygments_lexer": "ipython3",
   "version": "3.8.8"
  }
 },
 "nbformat": 4,
 "nbformat_minor": 5
}
