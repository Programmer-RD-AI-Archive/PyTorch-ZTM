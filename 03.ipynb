{
 "cells": [
  {
   "cell_type": "markdown",
   "id": "c55502bf-c226-4167-9fa1-d308cfea7577",
   "metadata": {},
   "source": [
    "# PyTorch Computer Vision"
   ]
  },
  {
   "cell_type": "markdown",
   "id": "dd1353ad-b15b-4d9b-9bf4-48b9c794064a",
   "metadata": {},
   "source": [
    "## Computer vision libraries in PyTorch\n",
    "\n",
    "* [`torchvision`](https://pytorch.org/vision/stable/index.html) - base domain library of PyTorch Computer Vision\n",
    "* `torchvision.datasets` - get datasets and data loading functions for computer vision here\n",
    "* `torchvison.models` - get pretrained computer vision models that you can leverage for you own problems\n",
    "* `torchvison.transforms` - functions for manipulating your vision data (images) to be suitable for use with an ML model\n",
    "* `torch.utils.data.Dataset` - Base dataset class for PyTorch\n",
    "* `torch.utils.data.DataLoader` - Creaters a Python iterable over a dataset"
   ]
  },
  {
   "cell_type": "code",
   "execution_count": 1,
   "id": "e25d824c-83bd-4b5f-a0cb-b41b4738f774",
   "metadata": {},
   "outputs": [],
   "source": [
    "import torch\n",
    "import torchvision\n",
    "from torch import nn, optim\n",
    "from torchvision import datasets,models,transforms\n",
    "from torch.utils.data import Dataset,DataLoader\n",
    "import matplotlib.pyplot as plt\n",
    "import numpy as np\n",
    "import pandas as pd"
   ]
  },
  {
   "cell_type": "code",
   "execution_count": 2,
   "id": "4380aecf-ac68-4367-b2fe-ceeda41dd7cd",
   "metadata": {},
   "outputs": [
    {
     "data": {
      "text/plain": [
       "('1.9.1', '0.10.1')"
      ]
     },
     "execution_count": 2,
     "metadata": {},
     "output_type": "execute_result"
    }
   ],
   "source": [
    "torch.__version__,torchvision.__version__"
   ]
  },
  {
   "cell_type": "markdown",
   "id": "f05a9314-2901-43f9-9daa-bbfaea17c582",
   "metadata": {},
   "source": [
    "## Dataset\n",
    "\n",
    "The dataset we'll be using is FashionMNIST"
   ]
  },
  {
   "cell_type": "code",
   "execution_count": 3,
   "id": "8ea6215e-24e8-4692-804b-55f0eac34a63",
   "metadata": {},
   "outputs": [
    {
     "name": "stderr",
     "output_type": "stream",
     "text": [
      "/media/indika/Sync/anaconda3/lib/python3.8/site-packages/torchvision/datasets/mnist.py:498: UserWarning: The given NumPy array is not writeable, and PyTorch does not support non-writeable tensors. This means you can write to the underlying (supposedly non-writeable) NumPy array using the tensor. You may want to copy the array to protect its data or make it writeable before converting it to a tensor. This type of warning will be suppressed for the rest of this program. (Triggered internally at  /opt/conda/conda-bld/pytorch_1631630839582/work/torch/csrc/utils/tensor_numpy.cpp:180.)\n",
      "  return torch.from_numpy(parsed.astype(m[2], copy=False)).view(*s)\n"
     ]
    }
   ],
   "source": [
    "# Setup training data\n",
    "train_data = datasets.FashionMNIST(root=\"data/03/\",train=True,download=True,transform=transforms.ToTensor())\n",
    "test_data = datasets.FashionMNIST(root=\"data/03/\",train=False,download=True,transform=transforms.ToTensor())\n"
   ]
  },
  {
   "cell_type": "code",
   "execution_count": 4,
   "id": "8158be96-f69b-4fba-9399-df456ab99f25",
   "metadata": {},
   "outputs": [
    {
     "data": {
      "text/plain": [
       "(60000, 10000)"
      ]
     },
     "execution_count": 4,
     "metadata": {},
     "output_type": "execute_result"
    }
   ],
   "source": [
    "len(train_data),len(test_data)"
   ]
  },
  {
   "cell_type": "code",
   "execution_count": 5,
   "id": "e5d2e63f-f43a-40f5-b54a-fd200de1106e",
   "metadata": {},
   "outputs": [],
   "source": [
    "# See the first training example\n",
    "image,label = train_data[0]"
   ]
  },
  {
   "cell_type": "code",
   "execution_count": 6,
   "id": "b50dae73-83dc-43a9-9fd1-bf91eafc980a",
   "metadata": {},
   "outputs": [
    {
     "data": {
      "text/plain": [
       "(torch.Size([1, 28, 28]), 9)"
      ]
     },
     "execution_count": 6,
     "metadata": {},
     "output_type": "execute_result"
    }
   ],
   "source": [
    "image.shape,label"
   ]
  },
  {
   "cell_type": "code",
   "execution_count": 7,
   "id": "c8a7bcd5-71aa-4079-84cc-c4844eb77e36",
   "metadata": {},
   "outputs": [],
   "source": [
    "class_names = train_data.classes"
   ]
  },
  {
   "cell_type": "code",
   "execution_count": 8,
   "id": "75d40a95-edb0-4dd2-9241-cd7092660379",
   "metadata": {},
   "outputs": [
    {
     "data": {
      "text/plain": [
       "['T-shirt/top',\n",
       " 'Trouser',\n",
       " 'Pullover',\n",
       " 'Dress',\n",
       " 'Coat',\n",
       " 'Sandal',\n",
       " 'Shirt',\n",
       " 'Sneaker',\n",
       " 'Bag',\n",
       " 'Ankle boot']"
      ]
     },
     "execution_count": 8,
     "metadata": {},
     "output_type": "execute_result"
    }
   ],
   "source": [
    "class_names"
   ]
  },
  {
   "cell_type": "code",
   "execution_count": 9,
   "id": "9eb2586c-4dd2-4854-bf7b-292519bb9e5a",
   "metadata": {},
   "outputs": [],
   "source": [
    "class_to_idx = train_data.class_to_idx"
   ]
  },
  {
   "cell_type": "code",
   "execution_count": 10,
   "id": "7a87af4f-6fd9-4abc-a443-e366917b42de",
   "metadata": {},
   "outputs": [
    {
     "data": {
      "text/plain": [
       "{'T-shirt/top': 0,\n",
       " 'Trouser': 1,\n",
       " 'Pullover': 2,\n",
       " 'Dress': 3,\n",
       " 'Coat': 4,\n",
       " 'Sandal': 5,\n",
       " 'Shirt': 6,\n",
       " 'Sneaker': 7,\n",
       " 'Bag': 8,\n",
       " 'Ankle boot': 9}"
      ]
     },
     "execution_count": 10,
     "metadata": {},
     "output_type": "execute_result"
    }
   ],
   "source": [
    "class_to_idx"
   ]
  },
  {
   "cell_type": "code",
   "execution_count": 11,
   "id": "7a1318ec-76cd-4408-98db-ce819e388264",
   "metadata": {},
   "outputs": [
    {
     "data": {
      "text/plain": [
       "(torch.Size([1, 28, 28]), 9)"
      ]
     },
     "execution_count": 11,
     "metadata": {},
     "output_type": "execute_result"
    }
   ],
   "source": [
    "image.shape,label # C,H,W"
   ]
  },
  {
   "cell_type": "code",
   "execution_count": 12,
   "id": "31b85a48-7130-4813-92f5-2449be63a494",
   "metadata": {},
   "outputs": [
    {
     "data": {
      "image/png": "[encoded data removed]",
      "text/plain": [
       "<Figure size 432x288 with 1 Axes>"
      ]
     },
     "metadata": {
      "needs_background": "light"
     },
     "output_type": "display_data"
    }
   ],
   "source": [
    "plt.imshow(image.view(28,28,1),cmap=\"gray\")\n",
    "plt.title(class_names[label])\n",
    "plt.axis(False);"
   ]
  },
  {
   "cell_type": "code",
   "execution_count": 13,
   "id": "eb42d745-096e-4e95-9230-1399b2277830",
   "metadata": {},
   "outputs": [
    {
     "data": {
      "image/png": "[encoded data removed]",
      "text/plain": [
       "<Figure size 648x648 with 16 Axes>"
      ]
     },
     "metadata": {
      "needs_background": "light"
     },
     "output_type": "display_data"
    }
   ],
   "source": [
    "# Plot more images\n",
    "# torch.manual_seed(42)\n",
    "fig = plt.figure(figsize=(9,9))\n",
    "row,cols = 4,4\n",
    "for i in range(1,row*cols+1):\n",
    "    random_idx = torch.randint(0,len(train_data),size=[1]).item()\n",
    "    img,label = train_data[random_idx]\n",
    "    fig.add_subplot(row,cols,i)\n",
    "    plt.imshow(img.view(28,28,1),cmap=\"gray\")\n",
    "    plt.title(class_names[label])\n",
    "    plt.axis(False)"
   ]
  },
  {
   "cell_type": "markdown",
   "id": "12bca6d4-0d00-41d7-bff9-35ba5df7fe19",
   "metadata": {},
   "source": [
    "## PrePare DataLoader\n",
    "\n",
    "Currently the data is inform of PyTorch Datasets\n",
    "\n",
    "DataLoader turns our data to a Python iterable\n",
    "\n",
    "We will turn out data into mini batches\n",
    "\n",
    "Why?\n",
    "- Computationally efficent\n",
    "- Neural network can change the gradient more times, it can change the weights and biases every batch rather than only once per epoch"
   ]
  },
  {
   "cell_type": "code",
   "execution_count": 14,
   "id": "0fa0ff1b-4ddb-42dd-a8f6-3f09a029a992",
   "metadata": {},
   "outputs": [],
   "source": [
    "BATCH_SIZE = 32\n",
    "\n",
    "train_dataloader = DataLoader(train_data,batch_size=BATCH_SIZE,shuffle=True)\n",
    "test_dataloader = DataLoader(test_data,batch_size=BATCH_SIZE,shuffle=True)"
   ]
  },
  {
   "cell_type": "code",
   "execution_count": 15,
   "id": "3b941d19-68f4-4540-9a6f-128951562dff",
   "metadata": {},
   "outputs": [
    {
     "data": {
      "text/plain": [
       "(torch.Size([32, 1, 28, 28]), torch.Size([32]))"
      ]
     },
     "execution_count": 15,
     "metadata": {},
     "output_type": "execute_result"
    }
   ],
   "source": [
    "train_features_batch,train_labels_batch = next(iter(train_dataloader))\n",
    "train_features_batch.shape,train_labels_batch.shape"
   ]
  },
  {
   "cell_type": "code",
   "execution_count": 16,
   "id": "db8179f2-6c85-435e-b7c0-5422d812ccb7",
   "metadata": {},
   "outputs": [
    {
     "data": {
      "text/plain": [
       "(-0.5, 27.5, 27.5, -0.5)"
      ]
     },
     "execution_count": 16,
     "metadata": {},
     "output_type": "execute_result"
    },
    {
     "data": {
      "image/png": "[encoded data removed]",
      "text/plain": [
       "<Figure size 432x288 with 1 Axes>"
      ]
     },
     "metadata": {
      "needs_background": "light"
     },
     "output_type": "display_data"
    }
   ],
   "source": [
    "rdm_idx = torch.randint(0,len(train_features_batch),size = [1]).item()\n",
    "img,label = train_features_batch[rdm_idx],train_labels_batch[rdm_idx]\n",
    "plt.imshow(img.squeeze(),cmap=\"gray\")\n",
    "plt.title(class_names[label])\n",
    "plt.axis(False)"
   ]
  },
  {
   "cell_type": "markdown",
   "id": "8c3b3460-b9f6-4fc2-ad69-b3b31ae57e82",
   "metadata": {},
   "source": [
    "## Model 0: Build a baseline model\n",
    "\n",
    "When starting to build a series of machine learning modelling experiement, its best to start with a baseline model"
   ]
  },
  {
   "cell_type": "code",
   "execution_count": 17,
   "id": "691479c7-4ea4-49f4-b7d0-047395372c2b",
   "metadata": {},
   "outputs": [
    {
     "data": {
      "text/plain": [
       "(torch.Size([1, 28, 28]), torch.Size([1, 784]))"
      ]
     },
     "execution_count": 17,
     "metadata": {},
     "output_type": "execute_result"
    }
   ],
   "source": [
    "# Create a flatten layer\n",
    "flatten_model = nn.Flatten()\n",
    "x = train_features_batch[0]\n",
    "x.shape,flatten_model(x).shape"
   ]
  },
  {
   "cell_type": "code",
   "execution_count": 18,
   "id": "2e576c4a-a293-414b-9081-4c4f760e3e2e",
   "metadata": {},
   "outputs": [],
   "source": [
    "from torch import nn\n",
    "class FashionMNISTModelV0(nn.Module):\n",
    "    def __init__(self,input_shape:int,hidden_units: int, output_shape:int) -> None:\n",
    "        super().__init__()\n",
    "        self.layer_stack = nn.Sequential(\n",
    "            nn.Flatten(), # No learning parameters\n",
    "            nn.Linear(in_features=input_shape,out_features=hidden_units),\n",
    "            nn.Linear(in_features=hidden_units,out_features=output_shape)\n",
    "        )\n",
    "    \n",
    "    def forward(self,X) -> torch.Tensor():\n",
    "        return self.layer_stack(X)"
   ]
  },
  {
   "cell_type": "code",
   "execution_count": 19,
   "id": "fd23482e-d4d5-48d3-a390-13336ace520e",
   "metadata": {},
   "outputs": [],
   "source": [
    "device = 'cuda' if torch.cuda.is_available() else 'cpu'"
   ]
  },
  {
   "cell_type": "code",
   "execution_count": 20,
   "id": "42d30c7c-04c2-4cfe-a663-c82fa67b4952",
   "metadata": {},
   "outputs": [],
   "source": [
    "torch.manual_seed(42)\n",
    "\n",
    "# Setup model with input parameters\n",
    "\n",
    "model_0 = FashionMNISTModelV0(input_shape=28*28,hidden_units=10,output_shape=len(class_names))"
   ]
  },
  {
   "cell_type": "code",
   "execution_count": 21,
   "id": "2974bbf8-2428-4e2a-bdf4-d95ca6735fcb",
   "metadata": {},
   "outputs": [],
   "source": [
    "optimizer = optim.Adam(model_0.parameters(),lr=0.01)\n",
    "criterion = nn.CrossEntropyLoss()"
   ]
  },
  {
   "cell_type": "code",
   "execution_count": 22,
   "id": "79e00def-8d5b-4b49-acd2-7c0025128846",
   "metadata": {},
   "outputs": [
    {
     "data": {
      "text/plain": [
       "tensor([[-0.0315,  0.3171,  0.0531, -0.2525,  0.5959,  0.2112,  0.3233,  0.2694,\n",
       "         -0.1004,  0.0157]], grad_fn=<AddmmBackward>)"
      ]
     },
     "execution_count": 22,
     "metadata": {},
     "output_type": "execute_result"
    }
   ],
   "source": [
    "dummy_X = torch.rand([1,1,28,28])\n",
    "model_0(dummy_X)"
   ]
  },
  {
   "cell_type": "markdown",
   "id": "9cfe83d6-bcd2-4415-9a42-0e5d25d7da74",
   "metadata": {},
   "source": [
    "### Setup loss, optimizer and evaluation metrics\n",
    "\n",
    "* Loss function - since we're working with multi class data, our loss function with be `nn.CrossEntropyLoss()`\n",
    "* Optimizer - our optimizer is gonna be SGD but I am gonna use Adam() ;)\n",
    "* For evaluation we are gonan be using accuracy"
   ]
  },
  {
   "cell_type": "code",
   "execution_count": 23,
   "id": "c7a0c9b6-0243-4e60-b911-cbe07d97f592",
   "metadata": {},
   "outputs": [],
   "source": [
    "from helper_functions import *"
   ]
  },
  {
   "cell_type": "code",
   "execution_count": 24,
   "id": "820310a3-d549-4fa3-b8ee-44ef503e248b",
   "metadata": {},
   "outputs": [],
   "source": [
    "loss_fn = nn.CrossEntropyLoss()\n",
    "optimizer = optim.Adam(model_0.parameters(),lr=0.01)"
   ]
  },
  {
   "cell_type": "markdown",
   "id": "bbc5c25c-ca7f-4a2b-b5bb-b42a46700c37",
   "metadata": {},
   "source": [
    "### Creating a function to time our experiments\n",
    "\n",
    "Machine learning is very experimental\n",
    "\n",
    "2 of the main things we would want to track are:\n",
    "1. Model's performence\n",
    "2. How fast the model runs"
   ]
  },
  {
   "cell_type": "code",
   "execution_count": 25,
   "id": "fa45e65e-edcb-49b7-907d-d987b5b900f9",
   "metadata": {},
   "outputs": [],
   "source": [
    "from timeit import default_timer as timer"
   ]
  },
  {
   "cell_type": "code",
   "execution_count": 26,
   "id": "d00ce5e8-156e-414f-b3a2-c127b15ea0a9",
   "metadata": {},
   "outputs": [],
   "source": [
    "def print_train_time(start:float, end:float, device:torch.device = None):\n",
    "    total_time = end - start\n",
    "    print(f\"Process took - {total_time}\")"
   ]
  },
  {
   "cell_type": "code",
   "execution_count": 27,
   "id": "774f592f-9e31-4a14-8c65-988c81c12e8b",
   "metadata": {},
   "outputs": [
    {
     "name": "stdout",
     "output_type": "stream",
     "text": [
      "Process took - 1.6349999896192458e-05\n"
     ]
    }
   ],
   "source": [
    "start_time = timer()\n",
    "# some code..\n",
    "end_time = timer()\n",
    "print_train_time(start=start_time,end=end_time)"
   ]
  },
  {
   "cell_type": "markdown",
   "id": "0a8aa8f5-c597-4a18-8f14-e3e949ee42ca",
   "metadata": {},
   "source": [
    "### Creating a training loop and training a model on batches of data\n",
    "\n",
    "1. Loop through epochs\n",
    "2. Loop through training batches,perform training steps, calculate the train loss per batch\n",
    "3. Loop through testing batches, perform testing steps, calculate test loss per batch\n",
    "4. Print out what's happening\n",
    "5. Time it all"
   ]
  },
  {
   "cell_type": "code",
   "execution_count": 28,
   "id": "77659aee-f37a-4103-9d2f-29871c7230bd",
   "metadata": {},
   "outputs": [],
   "source": [
    "from tqdm.auto import tqdm"
   ]
  },
  {
   "cell_type": "code",
   "execution_count": 29,
   "id": "6d6bfc8f-4eb7-40f9-89f2-1f3ecab416a6",
   "metadata": {},
   "outputs": [],
   "source": [
    "epochs = 3"
   ]
  },
  {
   "cell_type": "code",
   "execution_count": 30,
   "id": "1a62c647-d54e-4afd-b151-d64b6dc20bf5",
   "metadata": {},
   "outputs": [
    {
     "data": {
      "application/vnd.jupyter.widget-view+json": {
       "model_id": "67d4fa184d384bc0a1a124e243683d81",
       "version_major": 2,
       "version_minor": 0
      },
      "text/plain": [
       "  0%|          | 0/3 [00:00<?, ?it/s]"
      ]
     },
     "metadata": {},
     "output_type": "display_data"
    },
    {
     "name": "stdout",
     "output_type": "stream",
     "text": [
      "Epoch: 0\n",
      "------\n",
      "Looked at 0/60000 samples.\n",
      "Looked at 12800/60000 samples.\n",
      "Looked at 25600/60000 samples.\n",
      "Looked at 38400/60000 samples.\n",
      "Looked at 51200/60000 samples.\n",
      "\n",
      "Train loss: 0.5645 | Test loss: 0.5094, Test acc: 82.2484\n",
      "Epoch: 1\n",
      "------\n",
      "Looked at 0/60000 samples.\n",
      "Looked at 12800/60000 samples.\n",
      "Looked at 25600/60000 samples.\n",
      "Looked at 38400/60000 samples.\n",
      "Looked at 51200/60000 samples.\n",
      "\n",
      "Train loss: 0.4979 | Test loss: 0.5246, Test acc: 81.7192\n",
      "Epoch: 2\n",
      "------\n",
      "Looked at 0/60000 samples.\n",
      "Looked at 12800/60000 samples.\n",
      "Looked at 25600/60000 samples.\n",
      "Looked at 38400/60000 samples.\n",
      "Looked at 51200/60000 samples.\n",
      "\n",
      "Train loss: 0.4819 | Test loss: 0.5102, Test acc: 82.9573\n",
      "Process took - 27.61618622600008\n"
     ]
    }
   ],
   "source": [
    "# Import tqdm for progress bar\n",
    "from tqdm.auto import tqdm\n",
    "\n",
    "# Set the seed and start the timer\n",
    "torch.manual_seed(42)\n",
    "train_time_start_on_cpu = timer() \n",
    "\n",
    "# Set the number of epochs (we'll keep this small for faster training time)\n",
    "epochs = 3\n",
    "\n",
    "# Create training and test loop\n",
    "for epoch in tqdm(range(epochs)):\n",
    "  print(f\"Epoch: {epoch}\\n------\")\n",
    "  ### Training\n",
    "  train_loss = 0\n",
    "  # Add a loop to loop through the training batches\n",
    "  for batch, (X, y) in enumerate(train_dataloader):\n",
    "    model_0.train()\n",
    "    # 1. Forward pass\n",
    "    y_pred = model_0(X)\n",
    "    \n",
    "    # 2. Calculate loss (per batch)\n",
    "    loss = loss_fn(y_pred, y)\n",
    "    train_loss += loss # accumulate train loss\n",
    "    \n",
    "    # 3. Optimizer zero grad\n",
    "    optimizer.zero_grad()\n",
    "    \n",
    "    # 4. Loss backward\n",
    "    loss.backward()\n",
    "    \n",
    "    # 5. Optimizer step (update the model's parameters once *per batch*)\n",
    "    optimizer.step()\n",
    "    \n",
    "    # Print out what's happening\n",
    "    if batch % 400 == 0:\n",
    "        print(f\"Looked at {batch * len(X)}/{len(train_dataloader.dataset)} samples.\")\n",
    "  \n",
    "  # Divide total train loss by length of train dataloader\n",
    "  train_loss /= len(train_dataloader)\n",
    "\n",
    "  ### Testing\n",
    "  test_loss, test_acc = 0, 0\n",
    "  model_0.eval()\n",
    "  with torch.inference_mode(): \n",
    "    for X_test, y_test in test_dataloader:\n",
    "      # 1. Forward pass\n",
    "      test_pred = model_0(X_test)\n",
    "\n",
    "      # 2. Calculate loss (accumulatively)\n",
    "      test_loss += loss_fn(test_pred, y_test)\n",
    "\n",
    "      # 3. Calculate accuracy\n",
    "      test_acc += accuracy_fn(y_true=y_test, y_pred=test_pred.argmax(dim=1))\n",
    "\n",
    "    # Calculate the test loss average per batch\n",
    "    test_loss /= len(test_dataloader)\n",
    "\n",
    "    # Calculate the test acc average per batch\n",
    "    test_acc /= len(test_dataloader)\n",
    "\n",
    "  # Print out what's happening\n",
    "  print(f\"\\nTrain loss: {train_loss:.4f} | Test loss: {test_loss:.4f}, Test acc: {test_acc:.4f}\")\n",
    "\n",
    "# Calculate training time\n",
    "train_time_end_on_cpu = timer()\n",
    "total_train_time_model_0 = print_train_time(start=train_time_start_on_cpu,\n",
    "                                            end=train_time_end_on_cpu,\n",
    "                                            device=str(next(model_0.parameters()).device))"
   ]
  },
  {
   "cell_type": "markdown",
   "id": "2d1e57a5-9c6b-4e3c-8998-40a98d8b269d",
   "metadata": {},
   "source": [
    "## Make predicitions and get Model 0 results"
   ]
  },
  {
   "cell_type": "code",
   "execution_count": 31,
   "id": "b200b888-52ed-40da-a378-b9036d835937",
   "metadata": {},
   "outputs": [],
   "source": [
    "device = 'cuda' if torch.cuda.is_available() else 'cpu'"
   ]
  },
  {
   "cell_type": "code",
   "execution_count": 32,
   "id": "2440b88a-4965-40ae-8350-50db848cc43c",
   "metadata": {},
   "outputs": [],
   "source": [
    "def eval_model(model:torch.nn.Module, \n",
    "               data_loader:torch.utils.data.DataLoader, \n",
    "               loss_fn:torch.nn.Module,\n",
    "               accuracy_fn,\n",
    "               train_or_loss:str):\n",
    "    loss,acc = 0,0\n",
    "    model.eval()\n",
    "    with torch.inference_mode():\n",
    "        for X,y in data_loader:\n",
    "            preds = model(X.to(device))\n",
    "            f_preds = torch.argmax(preds,dim=1)\n",
    "            loss += loss_fn(preds.to(device),y.to(device))\n",
    "            acc += accuracy_fn(y_true=y.to(device),y_pred=f_preds.to(device))\n",
    "        # Scale loss and acc to find average loss/acc per batch\n",
    "        loss = loss / len(data_loader)\n",
    "        acc = acc / len(data_loader)\n",
    "    return {f\"{train_or_loss} model_loss\":loss.item(),f\"{train_or_loss} model_acc\":acc} # \"model_name\":model.__class__.__name__,"
   ]
  },
  {
   "cell_type": "code",
   "execution_count": 33,
   "id": "8bedbcb5-1bd7-4398-ab20-6be0e5cb9ec4",
   "metadata": {},
   "outputs": [],
   "source": [
    "# eval_model(model=model_0,data_loader=test_dataloader,loss_fn=loss_fn,accuracy_fn=accuracy_fn,train_or_loss=\"test\")"
   ]
  },
  {
   "cell_type": "code",
   "execution_count": 34,
   "id": "7c8292dd-93d2-4668-a179-1967248f1b22",
   "metadata": {},
   "outputs": [],
   "source": [
    "# eval_model(model=model_0,data_loader=train_dataloader,loss_fn=loss_fn,accuracy_fn=accuracy_fn,train_or_loss=\"train\")"
   ]
  },
  {
   "cell_type": "markdown",
   "id": "78f52471-7761-4f79-bd24-27b04f70a87c",
   "metadata": {},
   "source": [
    "## Setup device agnostic code"
   ]
  },
  {
   "cell_type": "code",
   "execution_count": 35,
   "id": "a4cd59ad-45c5-492d-ae96-cd118414bc8f",
   "metadata": {},
   "outputs": [
    {
     "name": "stdout",
     "output_type": "stream",
     "text": [
      "Sun Jul  2 17:16:34 2023       \n",
      "+-----------------------------------------------------------------------------+\n",
      "| NVIDIA-SMI 510.47.03    Driver Version: 510.47.03    CUDA Version: 11.6     |\n",
      "|-------------------------------+----------------------+----------------------+\n",
      "| GPU  Name        Persistence-M| Bus-Id        Disp.A | Volatile Uncorr. ECC |\n",
      "| Fan  Temp  Perf  Pwr:Usage/Cap|         Memory-Usage | GPU-Util  Compute M. |\n",
      "|                               |                      |               MIG M. |\n",
      "|===============================+======================+======================|\n",
      "|   0  NVIDIA GeForce ...  On   | 00000000:26:00.0  On |                  N/A |\n",
      "|  0%   46C    P8    10W / 170W |    695MiB / 12288MiB |     30%      Default |\n",
      "|                               |                      |                  N/A |\n",
      "+-------------------------------+----------------------+----------------------+\n",
      "                                                                               \n",
      "+-----------------------------------------------------------------------------+\n",
      "| Processes:                                                                  |\n",
      "|  GPU   GI   CI        PID   Type   Process name                  GPU Memory |\n",
      "|        ID   ID                                                   Usage      |\n",
      "|=============================================================================|\n",
      "|    0   N/A  N/A      4968      G   /usr/lib/xorg/Xorg                320MiB |\n",
      "|    0   N/A  N/A      8893      G   /usr/bin/gnome-shell               53MiB |\n",
      "|    0   N/A  N/A     10173      G   ...AAAAAAAAA= --shared-files        3MiB |\n",
      "|    0   N/A  N/A     13857      G   ...AAAAAAAAA= --shared-files       29MiB |\n",
      "|    0   N/A  N/A    100508      G   ...265788447503989146,262144      137MiB |\n",
      "|    0   N/A  N/A    100518      G   ...features=BackForwardCache      144MiB |\n",
      "+-----------------------------------------------------------------------------+\n"
     ]
    }
   ],
   "source": [
    "!nvidia-smi"
   ]
  },
  {
   "cell_type": "code",
   "execution_count": 36,
   "id": "24ad8e1a-abee-459c-a8c8-50c441de5e27",
   "metadata": {},
   "outputs": [],
   "source": [
    "# Batchnorm is before activation\n",
    "class FashionMNIST01(nn.Module):\n",
    "    def __init__(self):\n",
    "        super().__init__()\n",
    "        self.activation = nn.ReLU()\n",
    "        self.flatten = nn.Flatten()\n",
    "        self.linear1 = nn.Linear(28*28,512)\n",
    "        self.batchnorm1d = nn.BatchNorm1d(512,affine=True)\n",
    "        self.linear2 = nn.Linear(512,1024)\n",
    "        self.batchnorm2d = nn.BatchNorm1d(1024,affine=True)\n",
    "        self.linear3 = nn.Linear(1024,2048)\n",
    "        self.batchnorm3d = nn.BatchNorm1d(2048,affine=True)\n",
    "        self.linear4 = nn.Linear(2048,1024)\n",
    "        self.batchnorm4d = nn.BatchNorm1d(1024,affine=True)\n",
    "        self.output = nn.Linear(1024,len(class_names))\n",
    "    \n",
    "    def forward(self,X):\n",
    "        X = self.flatten(X)\n",
    "        X = self.activation(self.batchnorm1d(self.linear1(X)))\n",
    "        X = self.activation(self.batchnorm2d(self.linear2(X)))\n",
    "        X = self.activation(self.batchnorm3d(self.linear3(X)))\n",
    "        X = self.activation(self.batchnorm4d(self.linear4(X)))\n",
    "        X = self.output(X)\n",
    "        return X"
   ]
  },
  {
   "cell_type": "code",
   "execution_count": 37,
   "id": "7aebbca4-0fee-40cf-a6e2-1593da3c7f17",
   "metadata": {},
   "outputs": [],
   "source": [
    "model_1 = FashionMNIST01().to(device)\n",
    "criterion = nn.CrossEntropyLoss()\n",
    "optimizer = optim.Adam(model_1.parameters(),lr=0.01)\n",
    "epochs = 100"
   ]
  },
  {
   "cell_type": "code",
   "execution_count": 38,
   "id": "b8b69c05-5ef8-4f7e-981d-e66879afec20",
   "metadata": {},
   "outputs": [],
   "source": [
    "import wandb"
   ]
  },
  {
   "cell_type": "code",
   "execution_count": 39,
   "id": "f5cb4756-22ba-4395-b94b-6692fd109f21",
   "metadata": {},
   "outputs": [
    {
     "name": "stderr",
     "output_type": "stream",
     "text": [
      "\u001b[34m\u001b[1mwandb\u001b[0m: Currently logged in as: \u001b[33mranuga-d\u001b[0m (use `wandb login --relogin` to force relogin)\n"
     ]
    },
    {
     "data": {
      "text/html": [
       "wandb version 0.15.4 is available!  To upgrade, please run:\n",
       " $ pip install wandb --upgrade"
      ],
      "text/plain": [
       "<IPython.core.display.HTML object>"
      ]
     },
     "metadata": {},
     "output_type": "display_data"
    },
    {
     "data": {
      "text/html": [
       "Tracking run with wandb version 0.12.15"
      ],
      "text/plain": [
       "<IPython.core.display.HTML object>"
      ]
     },
     "metadata": {},
     "output_type": "display_data"
    },
    {
     "data": {
      "text/html": [
       "Run data is saved locally in <code>/media/indika/Sync/Programmer-RD-AI/Programming/Learning/Pytorch/wandb/run-20230702_171640-q5du5t7z</code>"
      ],
      "text/plain": [
       "<IPython.core.display.HTML object>"
      ]
     },
     "metadata": {},
     "output_type": "display_data"
    },
    {
     "data": {
      "text/html": [
       "Syncing run <strong><a href=\"https://wandb.ai/ranuga-d/03/runs/q5du5t7z\" target=\"_blank\">model_1_affine_on</a></strong> to <a href=\"https://wandb.ai/ranuga-d/03\" target=\"_blank\">Weights & Biases</a> (<a href=\"https://wandb.me/run\" target=\"_blank\">docs</a>)<br/>"
      ],
      "text/plain": [
       "<IPython.core.display.HTML object>"
      ]
     },
     "metadata": {},
     "output_type": "display_data"
    },
    {
     "data": {
      "application/vnd.jupyter.widget-view+json": {
       "model_id": "d94c701d61c64cc68bbd768cfc6ddfb5",
       "version_major": 2,
       "version_minor": 0
      },
      "text/plain": [
       "  0%|          | 0/100 [00:00<?, ?it/s]"
      ]
     },
     "metadata": {},
     "output_type": "display_data"
    },
    {
     "data": {
      "text/html": [
       "Waiting for W&B process to finish... <strong style=\"color:green\">(success).</strong>"
      ],
      "text/plain": [
       "<IPython.core.display.HTML object>"
      ]
     },
     "metadata": {},
     "output_type": "display_data"
    },
    {
     "data": {
      "application/vnd.jupyter.widget-view+json": {
       "model_id": "",
       "version_major": 2,
       "version_minor": 0
      },
      "text/plain": [
       "VBox(children=(Label(value='0.358 MB of 0.358 MB uploaded (0.000 MB deduped)\\r'), FloatProgress(value=1.0, max…"
      ]
     },
     "metadata": {},
     "output_type": "display_data"
    },
    {
     "data": {
      "text/html": [
       "<style>\n",
       "    table.wandb td:nth-child(1) { padding: 0 10px; text-align: right }\n",
       "    .wandb-row { display: flex; flex-direction: row; flex-wrap: wrap; width: 100% }\n",
       "    .wandb-col { display: flex; flex-direction: column; flex-basis: 100%; flex: 1; padding: 10px; }\n",
       "    </style>\n",
       "<div class=\"wandb-row\"><div class=\"wandb-col\"><h3>Run history:</h3><br/><table class=\"wandb\"><tr><td>test model_acc</td><td>▁▂▃▆▅▇▇▇▇▇▇▇▇▇▇███▇█▆███▇▇▇█▇███████▇█▇█</td></tr><tr><td>test model_loss</td><td>▂▂▂▁▁▁▁▁▁▂▂▂▂▂▃▂▄▃▃▃▇▄▄▄▄▃▄▆▅▅▄▇▆▅▆▆█▆▇█</td></tr><tr><td>train model_acc</td><td>▁▂▃▄▄▅▅▅▅▆▆▆▆▆▆▆▇▇▇▇▆▇▇▇▇▆█▇▇███████▇███</td></tr><tr><td>train model_loss</td><td>██▆▅▅▄▄▄▃▃▃▃▃▃▃▃▂▂▂▂▅▂▂▂▂▃▁▁▂▁▁▁▁▁▁▁▂▁▁▁</td></tr></table><br/></div><div class=\"wandb-col\"><h3>Run summary:</h3><br/><table class=\"wandb\"><tr><td>test model_acc</td><td>89.38698</td></tr><tr><td>test model_loss</td><td>0.9201</td></tr><tr><td>train model_acc</td><td>98.27</td></tr><tr><td>train model_loss</td><td>0.05354</td></tr></table><br/></div></div>"
      ],
      "text/plain": [
       "<IPython.core.display.HTML object>"
      ]
     },
     "metadata": {},
     "output_type": "display_data"
    },
    {
     "data": {
      "text/html": [
       "Synced <strong style=\"color:#cdcd00\">model_1_affine_on</strong>: <a href=\"https://wandb.ai/ranuga-d/03/runs/q5du5t7z\" target=\"_blank\">https://wandb.ai/ranuga-d/03/runs/q5du5t7z</a><br/>Synced 6 W&B file(s), 0 media file(s), 2 artifact file(s) and 1 other file(s)"
      ],
      "text/plain": [
       "<IPython.core.display.HTML object>"
      ]
     },
     "metadata": {},
     "output_type": "display_data"
    },
    {
     "data": {
      "text/html": [
       "Find logs at: <code>./wandb/run-20230702_171640-q5du5t7z/logs</code>"
      ],
      "text/plain": [
       "<IPython.core.display.HTML object>"
      ]
     },
     "metadata": {},
     "output_type": "display_data"
    }
   ],
   "source": [
    "wandb.init(project=\"03\",name=\"model_1_affine_on\")\n",
    "for epoch in tqdm(range(epochs)):\n",
    "    for X_batch,y_batch in train_dataloader:\n",
    "        torch.cuda.empty_cache()\n",
    "        X_batch = X_batch.to(device)\n",
    "        y_batch = y_batch.to(device)\n",
    "        y_logits = model_1(X_batch)\n",
    "        preds = torch.argmax(y_logits,dim=1)\n",
    "        loss = criterion(y_logits,y_batch)\n",
    "        optimizer.zero_grad()\n",
    "        loss.backward()\n",
    "        optimizer.step()\n",
    "    wandb.log(eval_model(model=model_1,data_loader=test_dataloader,loss_fn=loss_fn,accuracy_fn=accuracy_fn,train_or_loss=\"test\"))\n",
    "    wandb.log(eval_model(model=model_1,data_loader=train_dataloader,loss_fn=loss_fn,accuracy_fn=accuracy_fn,train_or_loss=\"train\"))\n",
    "wandb.finish()"
   ]
  },
  {
   "cell_type": "code",
   "execution_count": 42,
   "id": "a792371c-c386-4f57-a253-e6c7921db1ba",
   "metadata": {},
   "outputs": [],
   "source": [
    "def train_step(dataloader:torch.utils.data.DataLoader,model:nn.Module,criterion:torch.nn,optimizer:torch.optim):\n",
    "    for X_batch,y_batch in dataloader:\n",
    "        torch.cuda.empty_cache()\n",
    "        X_batch = X_batch.to(device)\n",
    "        y_batch = y_batch.to(device)\n",
    "        y_logits = model(X_batch)\n",
    "        preds = torch.argmax(y_logits,dim=1)\n",
    "        loss = criterion(y_logits,y_batch)\n",
    "        optimizer.zero_grad()\n",
    "        loss.backward()\n",
    "        optimizer.step()\n",
    "    return loss"
   ]
  },
  {
   "cell_type": "code",
   "execution_count": 43,
   "id": "f8284d8c-0c3d-455f-a03c-f24040bf791a",
   "metadata": {},
   "outputs": [],
   "source": [
    "def test_step(dataloader:torch.utils.data.DataLoader,model:nn.Module,accuracy_fn:accuracy_fn):\n",
    "    test_loss, test_acc = 0, 0\n",
    "    model.eval()\n",
    "    with torch.inference_mode(): \n",
    "        for X_test, y_test in dataloader:\n",
    "            test_pred = model(X_test)\n",
    "            test_loss += loss_fn(test_pred, y_test)\n",
    "            test_acc += accuracy_fn(y_true=y_test, y_pred=test_pred.argmax(dim=1))\n",
    "        test_loss /= len(dataloader)\n",
    "        test_acc /= len(dataloader)\n",
    "    return test_loss,test_acc"
   ]
  },
  {
   "cell_type": "code",
   "execution_count": 44,
   "id": "fc075035-a2d8-409a-8d43-f8a198f9f8dd",
   "metadata": {},
   "outputs": [
    {
     "data": {
      "text/plain": [
       "{'test model_loss': 0.9226915240287781, 'test model_acc': 89.38698083067092}"
      ]
     },
     "execution_count": 44,
     "metadata": {},
     "output_type": "execute_result"
    }
   ],
   "source": [
    "eval_model(model=model_1,data_loader=test_dataloader,loss_fn=loss_fn,accuracy_fn=accuracy_fn,train_or_loss=\"test\")"
   ]
  },
  {
   "cell_type": "code",
   "execution_count": 45,
   "id": "0f8081b4-06fb-4da0-8aa3-082b339523a3",
   "metadata": {},
   "outputs": [
    {
     "data": {
      "text/plain": [
       "{'train model_loss': 0.05354353040456772, 'train model_acc': 98.27}"
      ]
     },
     "execution_count": 45,
     "metadata": {},
     "output_type": "execute_result"
    }
   ],
   "source": [
    "eval_model(model=model_1,data_loader=train_dataloader,loss_fn=loss_fn,accuracy_fn=accuracy_fn,train_or_loss=\"train\")"
   ]
  },
  {
   "cell_type": "markdown",
   "id": "ae79cd56-e0f2-44c8-b64a-158dea408494",
   "metadata": {},
   "source": [
    "## Model 2: Building a convolutioanl neural network\n",
    "\n",
    "CNN's are also know as CovNet\n",
    "\n",
    "Thry are infamous for their great performence with images"
   ]
  },
  {
   "cell_type": "code",
   "execution_count": 51,
   "id": "f4bf3b44-2058-47f0-8a45-22935366290f",
   "metadata": {},
   "outputs": [],
   "source": [
    "class TinyVGG(nn.Module):\n",
    "    def __init__(self,input_shape:int,hidden_units:int,output_shape:int):\n",
    "        super().__init__()\n",
    "        self.convblock1 = nn.Sequential(\n",
    "            nn.Conv2d(in_channels=input_shape,out_channels=hidden_units,kernel_size=(3,3),padding=2,stride=1),\n",
    "            nn.ReLU()\n",
    "        )\n",
    "        self.convblock2 = nn.Sequential(\n",
    "            nn.Conv2d(in_channels=hidden_units,out_channels=hidden_units,kernel_size=(3,3),padding=2,stride=1),\n",
    "            nn.ReLU(),\n",
    "            nn.MaxPool2d((2,2))\n",
    "        )\n",
    "        self.convblock3 = nn.Sequential(\n",
    "            nn.Conv2d(in_channels=hidden_units,out_channels=hidden_units,kernel_size=(3,3),padding=2,stride=1),\n",
    "            nn.ReLU()\n",
    "        )\n",
    "        self.convblock4 = nn.Sequential(\n",
    "            nn.Conv2d(in_channels=hidden_units,out_channels=hidden_units,kernel_size=(3,3),padding=2,stride=1),\n",
    "            nn.ReLU(),\n",
    "            nn.MaxPool2d((2,2))\n",
    "        )\n",
    "        self.linearout = nn.Sequential(\n",
    "            # nn.Flatten()\n",
    "            nn.Linear(hidden_units,output_shape),\n",
    "        )\n",
    "        \n",
    "    def forward(self,X):\n",
    "        X = self.convblock1(X)\n",
    "        X = self.convblock2(X)\n",
    "        X = self.convblock3(X)\n",
    "        X = self.convblock4(X)\n",
    "        print(X.shape)\n",
    "        X = self.linearout(X)\n",
    "        return X"
   ]
  },
  {
   "cell_type": "code",
   "execution_count": 52,
   "id": "eebc42c0-fb0a-40f5-a2a2-4c9ffa970292",
   "metadata": {},
   "outputs": [],
   "source": [
    "model = TinyVGG(1,10,len(class_names)).to(device)\n",
    "criterion = nn.CrossEntropyLoss()\n",
    "optimizer = optim.Adam(model.parameters(),lr=0.01)\n",
    "epochs = 100"
   ]
  },
  {
   "cell_type": "markdown",
   "id": "4846949b-2039-44cf-8b7d-c0fa0d9cbe91",
   "metadata": {},
   "source": [
    "### Stepping through `nn.Conv2d`"
   ]
  },
  {
   "cell_type": "code",
   "execution_count": 54,
   "id": "a3c66ca2-c407-464f-bbcd-36d3ba1d6af0",
   "metadata": {},
   "outputs": [],
   "source": [
    "torch.manual_seed(42)\n",
    "images = torch.randn(size=(32,3,64,64))\n",
    "test_image = images[0]"
   ]
  },
  {
   "cell_type": "code",
   "execution_count": 55,
   "id": "42dff74b-9982-43f5-b87d-5268533ebc8b",
   "metadata": {},
   "outputs": [
    {
     "data": {
      "text/plain": [
       "torch.Size([3, 64, 64])"
      ]
     },
     "execution_count": 55,
     "metadata": {},
     "output_type": "execute_result"
    }
   ],
   "source": [
    "test_image.shape"
   ]
  },
  {
   "cell_type": "code",
   "execution_count": 64,
   "id": "75ec080c-7a6e-4da9-b4c3-bdf0e9b12401",
   "metadata": {},
   "outputs": [],
   "source": [
    "cov_layer = nn.Conv2d(in_channels=3,out_channels=10,kernel_size=(3,3),stride=1,padding=0)"
   ]
  },
  {
   "cell_type": "code",
   "execution_count": 65,
   "id": "23d621cf-b293-4209-aa84-c41681f4f6f0",
   "metadata": {},
   "outputs": [
    {
     "ename": "RuntimeError",
     "evalue": "Expected 4-dimensional input for 4-dimensional weight [10, 3, 3, 3], but got 3-dimensional input of size [3, 64, 64] instead",
     "output_type": "error",
     "traceback": [
      "\u001b[0;31m---------------------------------------------------------------------------\u001b[0m",
      "\u001b[0;31mRuntimeError\u001b[0m                              Traceback (most recent call last)",
      "\u001b[0;32m/tmp/ipykernel_133270/1043683618.py\u001b[0m in \u001b[0;36m<module>\u001b[0;34m\u001b[0m\n\u001b[0;32m----> 1\u001b[0;31m \u001b[0mcov_layer\u001b[0m\u001b[0;34m(\u001b[0m\u001b[0mtest_image\u001b[0m\u001b[0;34m)\u001b[0m\u001b[0;34m.\u001b[0m\u001b[0mshape\u001b[0m\u001b[0;34m\u001b[0m\u001b[0;34m\u001b[0m\u001b[0m\n\u001b[0m",
      "\u001b[0;32m/media/indika/Sync/anaconda3/lib/python3.8/site-packages/torch/nn/modules/module.py\u001b[0m in \u001b[0;36m_call_impl\u001b[0;34m(self, *input, **kwargs)\u001b[0m\n\u001b[1;32m   1049\u001b[0m         if not (self._backward_hooks or self._forward_hooks or self._forward_pre_hooks or _global_backward_hooks\n\u001b[1;32m   1050\u001b[0m                 or _global_forward_hooks or _global_forward_pre_hooks):\n\u001b[0;32m-> 1051\u001b[0;31m             \u001b[0;32mreturn\u001b[0m \u001b[0mforward_call\u001b[0m\u001b[0;34m(\u001b[0m\u001b[0;34m*\u001b[0m\u001b[0minput\u001b[0m\u001b[0;34m,\u001b[0m \u001b[0;34m**\u001b[0m\u001b[0mkwargs\u001b[0m\u001b[0;34m)\u001b[0m\u001b[0;34m\u001b[0m\u001b[0;34m\u001b[0m\u001b[0m\n\u001b[0m\u001b[1;32m   1052\u001b[0m         \u001b[0;31m# Do not call functions when jit is used\u001b[0m\u001b[0;34m\u001b[0m\u001b[0;34m\u001b[0m\u001b[0;34m\u001b[0m\u001b[0m\n\u001b[1;32m   1053\u001b[0m         \u001b[0mfull_backward_hooks\u001b[0m\u001b[0;34m,\u001b[0m \u001b[0mnon_full_backward_hooks\u001b[0m \u001b[0;34m=\u001b[0m \u001b[0;34m[\u001b[0m\u001b[0;34m]\u001b[0m\u001b[0;34m,\u001b[0m \u001b[0;34m[\u001b[0m\u001b[0;34m]\u001b[0m\u001b[0;34m\u001b[0m\u001b[0;34m\u001b[0m\u001b[0m\n",
      "\u001b[0;32m/media/indika/Sync/anaconda3/lib/python3.8/site-packages/torch/nn/modules/conv.py\u001b[0m in \u001b[0;36mforward\u001b[0;34m(self, input)\u001b[0m\n\u001b[1;32m    441\u001b[0m \u001b[0;34m\u001b[0m\u001b[0m\n\u001b[1;32m    442\u001b[0m     \u001b[0;32mdef\u001b[0m \u001b[0mforward\u001b[0m\u001b[0;34m(\u001b[0m\u001b[0mself\u001b[0m\u001b[0;34m,\u001b[0m \u001b[0minput\u001b[0m\u001b[0;34m:\u001b[0m \u001b[0mTensor\u001b[0m\u001b[0;34m)\u001b[0m \u001b[0;34m->\u001b[0m \u001b[0mTensor\u001b[0m\u001b[0;34m:\u001b[0m\u001b[0;34m\u001b[0m\u001b[0;34m\u001b[0m\u001b[0m\n\u001b[0;32m--> 443\u001b[0;31m         \u001b[0;32mreturn\u001b[0m \u001b[0mself\u001b[0m\u001b[0;34m.\u001b[0m\u001b[0m_conv_forward\u001b[0m\u001b[0;34m(\u001b[0m\u001b[0minput\u001b[0m\u001b[0;34m,\u001b[0m \u001b[0mself\u001b[0m\u001b[0;34m.\u001b[0m\u001b[0mweight\u001b[0m\u001b[0;34m,\u001b[0m \u001b[0mself\u001b[0m\u001b[0;34m.\u001b[0m\u001b[0mbias\u001b[0m\u001b[0;34m)\u001b[0m\u001b[0;34m\u001b[0m\u001b[0;34m\u001b[0m\u001b[0m\n\u001b[0m\u001b[1;32m    444\u001b[0m \u001b[0;34m\u001b[0m\u001b[0m\n\u001b[1;32m    445\u001b[0m \u001b[0;32mclass\u001b[0m \u001b[0mConv3d\u001b[0m\u001b[0;34m(\u001b[0m\u001b[0m_ConvNd\u001b[0m\u001b[0;34m)\u001b[0m\u001b[0;34m:\u001b[0m\u001b[0;34m\u001b[0m\u001b[0;34m\u001b[0m\u001b[0m\n",
      "\u001b[0;32m/media/indika/Sync/anaconda3/lib/python3.8/site-packages/torch/nn/modules/conv.py\u001b[0m in \u001b[0;36m_conv_forward\u001b[0;34m(self, input, weight, bias)\u001b[0m\n\u001b[1;32m    437\u001b[0m                             \u001b[0mweight\u001b[0m\u001b[0;34m,\u001b[0m \u001b[0mbias\u001b[0m\u001b[0;34m,\u001b[0m \u001b[0mself\u001b[0m\u001b[0;34m.\u001b[0m\u001b[0mstride\u001b[0m\u001b[0;34m,\u001b[0m\u001b[0;34m\u001b[0m\u001b[0;34m\u001b[0m\u001b[0m\n\u001b[1;32m    438\u001b[0m                             _pair(0), self.dilation, self.groups)\n\u001b[0;32m--> 439\u001b[0;31m         return F.conv2d(input, weight, bias, self.stride,\n\u001b[0m\u001b[1;32m    440\u001b[0m                         self.padding, self.dilation, self.groups)\n\u001b[1;32m    441\u001b[0m \u001b[0;34m\u001b[0m\u001b[0m\n",
      "\u001b[0;31mRuntimeError\u001b[0m: Expected 4-dimensional input for 4-dimensional weight [10, 3, 3, 3], but got 3-dimensional input of size [3, 64, 64] instead"
     ]
    }
   ],
   "source": [
    "cov_layer(test_image).shape"
   ]
  },
  {
   "cell_type": "code",
   "execution_count": null,
   "id": "4d7fc6ad-3477-41be-bc6f-88b003b481de",
   "metadata": {},
   "outputs": [],
   "source": []
  }
 ],
 "metadata": {
  "kernelspec": {
   "display_name": "Python 3 (ipykernel)",
   "language": "python",
   "name": "python3"
  },
  "language_info": {
   "codemirror_mode": {
    "name": "ipython",
    "version": 3
   },
   "file_extension": ".py",
   "mimetype": "text/x-python",
   "name": "python",
   "nbconvert_exporter": "python",
   "pygments_lexer": "ipython3",
   "version": "3.8.8"
  }
 },
 "nbformat": 4,
 "nbformat_minor": 5
}
