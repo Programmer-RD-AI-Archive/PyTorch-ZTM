{
 "cells": [
  {
   "cell_type": "markdown",
   "id": "451f5c30-9d6d-420d-9480-1b2a919d9bb7",
   "metadata": {},
   "source": [
    "# PyTorch Workflow\n",
    "\n",
    "Let's explore a an eample of an end-to-end workflow"
   ]
  },
  {
   "cell_type": "code",
   "execution_count": 23,
   "id": "efce9095-643f-4b0a-85f4-94f22c703017",
   "metadata": {},
   "outputs": [],
   "source": [
    "what_were_covering = {\n",
    "    1:\"Data (prepare and load)\",\n",
    "    2:\"build model\",\n",
    "    3:\"fitting the model to data (training)\",\n",
    "    4:\"making predictions and evaluation (inference)\",\n",
    "    5:\"saving and loading a model\",\n",
    "    6:\"putting it all together\"\n",
    "}"
   ]
  },
  {
   "cell_type": "code",
   "execution_count": 24,
   "id": "a81513aa-0c1d-4c2f-b509-112aca295c80",
   "metadata": {},
   "outputs": [
    {
     "data": {
      "text/plain": [
       "'1.9.1'"
      ]
     },
     "execution_count": 24,
     "metadata": {},
     "output_type": "execute_result"
    }
   ],
   "source": [
    "import torch\n",
    "from torch import nn # nn contains all of PyTorch's building blocs for neural networks\n",
    "import matplotlib.pyplot as plt\n",
    "import numpy as np\n",
    "import pandas as pd\n",
    "import torchvision\n",
    "\n",
    "device = torch.device('cuda')\n",
    "\n",
    "torch.__version__"
   ]
  },
  {
   "cell_type": "markdown",
   "id": "edd46ee3-635c-4d0d-bca1-a891c7b5110e",
   "metadata": {},
   "source": [
    "## 1. Data (preparing and loading)\n",
    "\n",
    "Data can be almost anything.... in machine learning\n",
    "\n",
    "* Excel spreadsheet\n",
    "* CSV File\n",
    "* JSON Files\n",
    "* Images\n",
    "* Audio\n",
    "* Videos\n",
    "* Text\n",
    "* DNA\n",
    "\n",
    "Machien learn is a game of two parts:\n",
    "1. Get data into a numerical representation\n",
    "2. Build a model to learn pattern in that numerical representation\n",
    "\n",
    "To showcase this, let's create some *knowne* data using the linear regression formula\n",
    "\n",
    "We'll use a linear regression formula to make a straight line with know parameters"
   ]
  },
  {
   "cell_type": "code",
   "execution_count": 25,
   "id": "807ba16c-47f6-40a9-991f-7c2c26314f33",
   "metadata": {},
   "outputs": [],
   "source": [
    "# Create the known parameters\n",
    "\n",
    "# y = bX + a\n",
    "weight = 0.7 # b\n",
    "bias = 0.3 # a\n",
    "\n",
    "# Create data\n",
    "\n",
    "start = 0.0\n",
    "end = 100.0\n",
    "step = 0.02\n",
    "X = torch.arange(start, end ,step).unsqueeze(dim=1)\n",
    "y = weight * X + bias"
   ]
  },
  {
   "cell_type": "code",
   "execution_count": 26,
   "id": "81a3acd6-c916-4f3e-b2b6-bd0c2841fc30",
   "metadata": {},
   "outputs": [
    {
     "data": {
      "text/plain": [
       "(tensor([[0.0000],\n",
       "         [0.0200],\n",
       "         [0.0400],\n",
       "         [0.0600],\n",
       "         [0.0800]]),\n",
       " tensor([[0.3000],\n",
       "         [0.3140],\n",
       "         [0.3280],\n",
       "         [0.3420],\n",
       "         [0.3560]]))"
      ]
     },
     "execution_count": 26,
     "metadata": {},
     "output_type": "execute_result"
    }
   ],
   "source": [
    "X[:5], y[:5]"
   ]
  },
  {
   "cell_type": "code",
   "execution_count": 27,
   "id": "e453091d-c198-4497-866c-1dc3965dffe6",
   "metadata": {},
   "outputs": [
    {
     "data": {
      "text/plain": [
       "(5000, 5000)"
      ]
     },
     "execution_count": 27,
     "metadata": {},
     "output_type": "execute_result"
    }
   ],
   "source": [
    "len(X), len(y)"
   ]
  },
  {
   "cell_type": "markdown",
   "id": "f4da77b2-be2d-4084-8563-dd27836307a8",
   "metadata": {},
   "source": [
    "So in AI what happens is that the Model checks the difference between the y predictions and the true y and changes its weights and biases according and finds the correct correlation between the 2"
   ]
  },
  {
   "cell_type": "markdown",
   "id": "696226fd-20f2-4d86-ba9b-8ed8004d8222",
   "metadata": {},
   "source": [
    "### Splitting data into trainings and test sets\n",
    "\n",
    "- Training set - the training part\n",
    "- Practising (checking the model out) - practise exam t\n",
    "- test set - the final part"
   ]
  },
  {
   "cell_type": "code",
   "execution_count": 28,
   "id": "1a2668c0-7c57-4133-bbe9-20ac23460544",
   "metadata": {},
   "outputs": [],
   "source": [
    "from sklearn.model_selection import train_test_split"
   ]
  },
  {
   "cell_type": "code",
   "execution_count": 29,
   "id": "476d6631-953f-4127-9cd3-e42a3cb11c4a",
   "metadata": {},
   "outputs": [],
   "source": [
    "train_split = int(0.8 * len(X))\n",
    "X_train, y_train = X[:train_split],y[:train_split]\n",
    "X_test,y_test = X[train_split:], y[train_split:]"
   ]
  },
  {
   "cell_type": "code",
   "execution_count": 30,
   "id": "e595e261-4a8f-4a72-934c-6d8d50f2e02e",
   "metadata": {},
   "outputs": [
    {
     "data": {
      "text/plain": [
       "(4000, 4000, 1000, 1000)"
      ]
     },
     "execution_count": 30,
     "metadata": {},
     "output_type": "execute_result"
    }
   ],
   "source": [
    "len(X_train),len(y_train), len(X_test), len(y_test)"
   ]
  },
  {
   "cell_type": "markdown",
   "id": "5c6b2a15-c079-4d17-bcb5-68c681093378",
   "metadata": {},
   "source": [
    "how might we better visualize our data?\n",
    "\n",
    "This is where the data explorer's motto comes in!\n",
    "\n",
    "\"Visaulize, Visualize, Visualize!\""
   ]
  },
  {
   "cell_type": "code",
   "execution_count": 31,
   "id": "42191dd2-ff54-450c-b558-abb56bb06032",
   "metadata": {},
   "outputs": [],
   "source": [
    "def plot_predictions(train_data=X_train,train_labels=y_train,test_data=X_test,test_labels=y_test,predictions=None):\n",
    "    \"\"\"\n",
    "    Plots trainings data, test data and compares predictions\n",
    "    \"\"\"\n",
    "    plt.figure(figsize=(10,7))\n",
    "    \n",
    "    # Plot trainings data in blue\n",
    "    plt.scatter(train_data,train_labels, c='b', s=10, label='Trainings data')\n",
    "    \n",
    "    # Plot test data in green\n",
    "    plt.scatter(test_data, test_labels, c='g', s=10, label='Testing data')\n",
    "    \n",
    "    if predictions is not None:\n",
    "        # Plot the predictions\n",
    "        plt.scatter(test_data,predictions,c='r', s=10, label='predictions')\n",
    "    plt.legend(prop={\"size\":14})"
   ]
  },
  {
   "cell_type": "code",
   "execution_count": 32,
   "id": "3d4b535f-acbd-4e69-bd10-1cb8b65cb442",
   "metadata": {},
   "outputs": [
    {
     "data": {
      "image/png": "[encoded data removed]",
      "text/plain": [
       "<Figure size 720x504 with 1 Axes>"
      ]
     },
     "metadata": {
      "needs_background": "light"
     },
     "output_type": "display_data"
    }
   ],
   "source": [
    "plot_predictions()"
   ]
  },
  {
   "cell_type": "markdown",
   "id": "b83224cb-f737-4f8a-93aa-9fdb61db2490",
   "metadata": {},
   "source": [
    "## 2. Build Model\n",
    "\n",
    "Our first PyTorch Model!\n",
    "\n",
    "What our model does:\n",
    "* Start with random values (weights & bias)\n",
    "* Look at training data and adjust the random values to better represent the actual weights and bias\n",
    "\n",
    "They do this through\n",
    "1. Gradient Descent\n",
    "2. Backpropagation"
   ]
  },
  {
   "cell_type": "code",
   "execution_count": 33,
   "id": "bab653e7-077d-437d-9c3e-ad4001a6bed7",
   "metadata": {},
   "outputs": [],
   "source": [
    "# Create a linear regression model class\n",
    "\n",
    "class LinearRegressionModel(nn.Module): # <- almost everythhing in pytorch inherits from nn.Module\n",
    "    def __init__(self):\n",
    "        super().__init__()\n",
    "        self.weights = nn.Parameter(torch.randn(1,requires_grad=True,dtype=torch.float))\n",
    "        self.bias = nn.Parameter(torch.randn(1,requires_grad=True,dtype=torch.float))\n",
    "        \n",
    "    def forward(self,X):\n",
    "        return self.weights * X + self.bias"
   ]
  },
  {
   "cell_type": "code",
   "execution_count": 34,
   "id": "6a4e0319-9e4e-4a3c-81f9-19ffdc0031fb",
   "metadata": {},
   "outputs": [],
   "source": [
    "model = LinearRegressionModel()"
   ]
  },
  {
   "cell_type": "markdown",
   "id": "2759abd7-b6ad-46de-bb47-720e72d81f2b",
   "metadata": {},
   "source": [
    "### PyTorch model building essentials\n",
    "\n",
    "* torch.nn - contains all of the buildings for computational graphs (another word for neural networks)\n",
    "* torch.nn.Parameter - what parameters should our model try and learn, often a pytorch layer from torch.nn will set these for us\n",
    "* torch.nn.Module - the base class for all neural network modules, if you subclass it, you should overwrite forward()\n",
    "* torch.optim - this is where the optimizers in PyTorch live, they will help you with gradient descent\n",
    "* def forward() - All nn.Module subclasses are required for you to overwrtite, forward(), this method defines what happens when data is passed to the model"
   ]
  },
  {
   "cell_type": "markdown",
   "id": "8f90ee21-af4c-4693-8e4d-4941e29ca438",
   "metadata": {},
   "source": [
    "### Checking the contents of our PyTorch Model\n",
    "\n",
    "Now we've created a model, let's see what's inside...\n",
    "\n",
    "SO we can check our model parameters or what's inside our model using '.parameters()'"
   ]
  },
  {
   "cell_type": "code",
   "execution_count": 35,
   "id": "2c67d36d-b116-4f30-9010-fc5e866cc3c6",
   "metadata": {},
   "outputs": [
    {
     "data": {
      "text/plain": [
       "[Parameter containing:\n",
       " tensor([0.3367], requires_grad=True),\n",
       " Parameter containing:\n",
       " tensor([0.1288], requires_grad=True)]"
      ]
     },
     "execution_count": 35,
     "metadata": {},
     "output_type": "execute_result"
    }
   ],
   "source": [
    "torch.manual_seed(42)\n",
    "\n",
    "# Create instance of the model\n",
    "model_0 = LinearRegressionModel()\n",
    "\n",
    "list(model_0.parameters()) # the values are the values they are becz we got random val"
   ]
  },
  {
   "cell_type": "code",
   "execution_count": 36,
   "id": "e53f9cc9-ae53-4475-90f6-ea396b9e445c",
   "metadata": {},
   "outputs": [
    {
     "data": {
      "text/plain": [
       "OrderedDict([('weights', tensor([0.3367])), ('bias', tensor([0.1288]))])"
      ]
     },
     "execution_count": 36,
     "metadata": {},
     "output_type": "execute_result"
    }
   ],
   "source": [
    "model_0.state_dict()"
   ]
  },
  {
   "cell_type": "markdown",
   "id": "d2396bc2-ba48-4407-913c-8035d4490429",
   "metadata": {},
   "source": [
    "### Making predictions using `torch.inference_mode()`\n",
    "\n",
    "To check our models predictive poweerer, let's see how well it predictions  `y_test` based on `X_test`\n",
    "\n",
    "When we pass data thhrough our moodel, it's going to run it through the forrward() mmeethod"
   ]
  },
  {
   "cell_type": "code",
   "execution_count": 37,
   "id": "baa3c018-d9e3-4608-9436-81a50d17bd43",
   "metadata": {},
   "outputs": [
    {
     "data": {
      "image/png": "[encoded data removed]",
      "text/plain": [
       "<Figure size 720x504 with 1 Axes>"
      ]
     },
     "metadata": {
      "needs_background": "light"
     },
     "output_type": "display_data"
    }
   ],
   "source": [
    "# predictions = inference\n",
    "with torch.inference_mode():\n",
    "    y_preds = model_0(X_test)\n",
    "plot_predictions(predictions=y_preds)"
   ]
  },
  {
   "cell_type": "markdown",
   "id": "577b7e2a-6ea8-4331-8b64-93e82a893c6a",
   "metadata": {},
   "source": [
    "## 3. Train Model\n",
    "\n",
    "The whole idea of training is for a model to move from *uknown* paamters to know parameters\n",
    "\n",
    "or in other words from a poor representation of the data to a better representation of the data\n",
    "\n",
    "One way to measure how badly the models predicions are is using a loss function\n",
    "\n",
    "Loss functions also called \"cost function\" or \"criterion\"\n",
    "\n",
    "Things we need to train : \n",
    "\n",
    "*Loss Fnction* is a function to measure how wrong the model's prediction is\n",
    "\n",
    "*Optimizer* takes into accont the loss of a model and adjusts the model's parameters (weights and bias)"
   ]
  },
  {
   "cell_type": "code",
   "execution_count": 38,
   "id": "f02c3d46-9f3e-48d4-8256-9fec0e11d899",
   "metadata": {},
   "outputs": [
    {
     "data": {
      "text/plain": [
       "([Parameter containing:\n",
       "  tensor([0.3367], requires_grad=True),\n",
       "  Parameter containing:\n",
       "  tensor([0.1288], requires_grad=True)],\n",
       " OrderedDict([('weights', tensor([0.3367])), ('bias', tensor([0.1288]))]))"
      ]
     },
     "execution_count": 38,
     "metadata": {},
     "output_type": "execute_result"
    }
   ],
   "source": [
    "list(model_0.parameters()),model_0.state_dict()"
   ]
  },
  {
   "cell_type": "code",
   "execution_count": 39,
   "id": "6b25eae3-633f-4cdc-bf4c-a250fbf628c0",
   "metadata": {},
   "outputs": [],
   "source": [
    "loss_fn = nn.L1Loss()"
   ]
  },
  {
   "cell_type": "code",
   "execution_count": 40,
   "id": "623b5940-c4ed-407e-88e6-ec02aaed0751",
   "metadata": {},
   "outputs": [],
   "source": [
    "optimizer = torch.optim.SGD(params=model_0.parameters(),lr=0.001) \n",
    "# learning rate = possibily th emost important hyper parameter, it is a value that we set our selves, the learning rate is \n",
    "# smaller the learning rate the smaller the change done to parameters"
   ]
  },
  {
   "cell_type": "markdown",
   "id": "6bdf6a2e-95ff-477d-8f12-3f59b8b523c7",
   "metadata": {},
   "source": [
    "### Building a training loop and testing loop\n",
    "\n",
    "A couple things we need is:\n",
    "1. Loop through the data\n",
    "2. Forward pass (data moving through `forward()` function and make predictions\n",
    "3. Calculate the loss (compare expected and predicted vals)\n",
    "4. Loss backward - backward propagration, calculation works backwards throguh the network to calculate teh gradients of each the poarameters of our models with resepct to the loss (backpropagation)\n",
    "5. optimizer step- use the optimizer to adjust the model's parameters (gradient decent)"
   ]
  },
  {
   "cell_type": "code",
   "execution_count": 41,
   "id": "0855147c-f458-4498-bf27-a4e6fe9109d2",
   "metadata": {},
   "outputs": [],
   "source": [
    "# the model gets to see the data once\n",
    "epochs = 100"
   ]
  },
  {
   "cell_type": "code",
   "execution_count": 46,
   "id": "0f3d7f1f-b38a-4262-bb70-f070b73e6d8d",
   "metadata": {},
   "outputs": [],
   "source": [
    "for epoch in range(epochs):\n",
    "    # Set model to training model\n",
    "    model_0.train()"
   ]
  },
  {
   "cell_type": "code",
   "execution_count": null,
   "id": "955515b4-974c-4782-9145-5d893503e41b",
   "metadata": {},
   "outputs": [],
   "source": []
  }
 ],
 "metadata": {
  "kernelspec": {
   "display_name": "Python 3 (ipykernel)",
   "language": "python",
   "name": "python3"
  },
  "language_info": {
   "codemirror_mode": {
    "name": "ipython",
    "version": 3
   },
   "file_extension": ".py",
   "mimetype": "text/x-python",
   "name": "python",
   "nbconvert_exporter": "python",
   "pygments_lexer": "ipython3",
   "version": "3.8.8"
  }
 },
 "nbformat": 4,
 "nbformat_minor": 5
}
