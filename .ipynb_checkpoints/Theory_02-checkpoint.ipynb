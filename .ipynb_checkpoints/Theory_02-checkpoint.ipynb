{
 "cells": [
  {
   "cell_type": "markdown",
   "id": "bb5eee40-7a7b-4d5c-ab73-800776e96510",
   "metadata": {},
   "source": [
    "# Crross Entropy Loss\n"
   ]
  },
  {
   "cell_type": "markdown",
   "id": "49dd39b1-221c-40fa-a34c-a548b7acca8d",
   "metadata": {},
   "source": [
    "# Dropout"
   ]
  },
  {
   "cell_type": "markdown",
   "id": "311e5114-dd67-4d9d-a837-f6d8a7a53e2c",
   "metadata": {},
   "source": [
    "# Batch normalization"
   ]
  },
  {
   "cell_type": "code",
   "execution_count": null,
   "id": "05e944ee-5b08-4ff8-9cfb-25fd73eed387",
   "metadata": {},
   "outputs": [],
   "source": []
  }
 ],
 "metadata": {
  "kernelspec": {
   "display_name": "Python 3 (ipykernel)",
   "language": "python",
   "name": "python3"
  },
  "language_info": {
   "codemirror_mode": {
    "name": "ipython",
    "version": 3
   },
   "file_extension": ".py",
   "mimetype": "text/x-python",
   "name": "python",
   "nbconvert_exporter": "python",
   "pygments_lexer": "ipython3",
   "version": "3.8.8"
  }
 },
 "nbformat": 4,
 "nbformat_minor": 5
}
