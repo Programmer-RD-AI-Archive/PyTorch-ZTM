{
 "cells": [
  {
   "cell_type": "markdown",
   "id": "1bd9ec5f-fbb8-4f28-b911-1f2b31927c67",
   "metadata": {},
   "source": [
    "# What is Transfer learning?\n",
    "\n",
    "Transfer learning is a technique in machine learning in which knowledge learned from a task is re-used in order to boost performance on a related task. For example, for image classification, knowledge gained while learning to recognize cars could be applied when trying to recognize trucks. Wikipedia\n",
    "\n",
    "## Why use transfer learning?\n",
    "1. Can leverage an existing neural network architecture proven to work on problems similar to our own\n",
    "2. Can leverage a woring network architecture which has already learned patterns on similar data to our own (so great performence with low data)"
   ]
  },
  {
   "cell_type": "code",
   "execution_count": 1,
   "id": "1129b80d-f36f-46b9-9355-e9e2968c681f",
   "metadata": {},
   "outputs": [
    {
     "data": {
      "text/plain": [
       "('1.9.1', '0.10.1')"
      ]
     },
     "execution_count": 1,
     "metadata": {},
     "output_type": "execute_result"
    }
   ],
   "source": [
    "import torch\n",
    "import torchvision\n",
    "torch.__version__,torchvision.__version__"
   ]
  },
  {
   "cell_type": "code",
   "execution_count": null,
   "id": "c029fad0-6880-49d5-b677-8d7ddbd79504",
   "metadata": {},
   "outputs": [],
   "source": [
    "!conda install pytorch torchvision torchaudio pytorch-cuda=11.8 -c pytorch-nightly -c nvidia"
   ]
  },
  {
   "cell_type": "code",
   "execution_count": null,
   "id": "11d88c75-4a1f-42be-aef9-119fb66c32b0",
   "metadata": {},
   "outputs": [],
   "source": []
  }
 ],
 "metadata": {
  "kernelspec": {
   "display_name": "Python 3 (ipykernel)",
   "language": "python",
   "name": "python3"
  },
  "language_info": {
   "codemirror_mode": {
    "name": "ipython",
    "version": 3
   },
   "file_extension": ".py",
   "mimetype": "text/x-python",
   "name": "python",
   "nbconvert_exporter": "python",
   "pygments_lexer": "ipython3",
   "version": "3.8.8"
  }
 },
 "nbformat": 4,
 "nbformat_minor": 5
}
