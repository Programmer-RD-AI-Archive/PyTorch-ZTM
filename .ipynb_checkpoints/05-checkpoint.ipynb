{
 "cells": [
  {
   "cell_type": "markdown",
   "id": "1bd9ec5f-fbb8-4f28-b911-1f2b31927c67",
   "metadata": {},
   "source": [
    "# What is Transfer learning?\n",
    "\n",
    "Transfer learning is a technique in machine learning in which knowledge learned from a task is re-used in order to boost performance on a related task. For example, for image classification, knowledge gained while learning to recognize cars could be applied when trying to recognize trucks. Wikipedia\n",
    "\n",
    "## Why use transfer learning?\n",
    "1. Can leverage an existing neural network architecture proven to work on problems similar to our own\n",
    "2. Can leverage a woring network architecture which has already learned patterns on similar data to our own (so great performence with low data)"
   ]
  },
  {
   "cell_type": "code",
   "execution_count": 1,
   "id": "1129b80d-f36f-46b9-9355-e9e2968c681f",
   "metadata": {
    "tags": []
   },
   "outputs": [
    {
     "data": {
      "text/plain": [
       "('2.1.0.dev20230713', '0.16.0.dev20230713')"
      ]
     },
     "execution_count": 1,
     "metadata": {},
     "output_type": "execute_result"
    }
   ],
   "source": [
    "import torch\n",
    "import torchvision\n",
    "torch.__version__,torchvision.__version__"
   ]
  },
  {
   "cell_type": "markdown",
   "id": "80b49efd-6111-4b27-92d9-4ba282874484",
   "metadata": {},
   "source": [
    "Now we've got the versions of torch and torchvision, we're after, let's import the code we've writte in previous section "
   ]
  },
  {
   "cell_type": "code",
   "execution_count": 2,
   "id": "c1d9b7cd-1612-41db-8745-0ddd226442d3",
   "metadata": {
    "tags": []
   },
   "outputs": [],
   "source": [
    "# Continue with regular imports\n",
    "import matplotlib.pyplot as plt\n",
    "import torch\n",
    "import torchvision\n",
    "\n",
    "from torch import nn\n",
    "from torchvision import transforms\n",
    "\n",
    "# Try to get torchinfo, install it if it doesn't work\n",
    "try:\n",
    "    from torchinfo import summary\n",
    "except:\n",
    "    print(\"[INFO] Couldn't find torchinfo... installing it.\")\n",
    "    !pip install -q torchinfo\n",
    "    from torchinfo import summary\n",
    "\n",
    "# Try to import the going_modular directory, download it from GitHub if it doesn't work\n",
    "try:\n",
    "    from going_modular.going_modular import data_setup, engine\n",
    "except:\n",
    "    # Get the going_modular scripts\n",
    "    print(\"[INFO] Couldn't find going_modular scripts... downloading them from GitHub.\")\n",
    "    !git clone https://github.com/mrdbourke/pytorch-deep-learning\n",
    "    !mv pytorch-deep-learning/going_modular .\n",
    "    !mv pytorch-deep-learning/data/pizza_steak_sushi_20_percent.zip ./data/05\n",
    "    !unzip ./data/05/pizza_steak_sushi_20_percent.zip\n",
    "    # !rm -rf pytorch-deep-learning\n",
    "    from going_modular.going_modular import data_setup, engine"
   ]
  },
  {
   "cell_type": "code",
   "execution_count": 3,
   "id": "d91a1f33-88a5-41b1-81e2-ad03cde5b3a1",
   "metadata": {
    "tags": []
   },
   "outputs": [],
   "source": [
    "device = 'cuda' if torch.cuda.is_available() else 'cpu'"
   ]
  },
  {
   "cell_type": "code",
   "execution_count": 4,
   "id": "e844a820-6e66-4589-9424-06c8c57bec42",
   "metadata": {
    "tags": []
   },
   "outputs": [
    {
     "name": "stdout",
     "output_type": "stream",
     "text": [
      "Fri Jul 14 20:32:19 2023       \n",
      "+-----------------------------------------------------------------------------+\n",
      "| NVIDIA-SMI 525.125.06   Driver Version: 525.125.06   CUDA Version: 12.0     |\n",
      "|-------------------------------+----------------------+----------------------+\n",
      "| GPU  Name        Persistence-M| Bus-Id        Disp.A | Volatile Uncorr. ECC |\n",
      "| Fan  Temp  Perf  Pwr:Usage/Cap|         Memory-Usage | GPU-Util  Compute M. |\n",
      "|                               |                      |               MIG M. |\n",
      "|===============================+======================+======================|\n",
      "|   0  NVIDIA GeForce ...  Off  | 00000000:26:00.0  On |                  N/A |\n",
      "|  0%   48C    P8    12W / 170W |    599MiB / 12288MiB |     23%      Default |\n",
      "|                               |                      |                  N/A |\n",
      "+-------------------------------+----------------------+----------------------+\n",
      "                                                                               \n",
      "+-----------------------------------------------------------------------------+\n",
      "| Processes:                                                                  |\n",
      "|  GPU   GI   CI        PID   Type   Process name                  GPU Memory |\n",
      "|        ID   ID                                                   Usage      |\n",
      "|=============================================================================|\n",
      "|    0   N/A  N/A       962      G   /usr/lib/xorg/Xorg                304MiB |\n",
      "|    0   N/A  N/A      1240      G   /usr/bin/gnome-shell               42MiB |\n",
      "|    0   N/A  N/A      1613      G   ...158999189576873813,262144      217MiB |\n",
      "|    0   N/A  N/A     22205      G   ...AAAAAAAAA= --shared-files        9MiB |\n",
      "|    0   N/A  N/A     33805      G   ...features=BackForwardCache        9MiB |\n",
      "|    0   N/A  N/A     70760      G   ...RendererForSitePerProcess        9MiB |\n",
      "+-----------------------------------------------------------------------------+\n"
     ]
    }
   ],
   "source": [
    "!nvidia-smi"
   ]
  },
  {
   "cell_type": "markdown",
   "id": "7d096286-9403-4eba-93f8-8be7520ef5d0",
   "metadata": {
    "tags": []
   },
   "source": [
    "##  Get data\n",
    "\n",
    "We need our pizza, steak, sushi data to build a transfer learning model"
   ]
  },
  {
   "cell_type": "code",
   "execution_count": 5,
   "id": "dd6e69cc-da20-4ecf-9c69-bd3ddeff770c",
   "metadata": {
    "tags": []
   },
   "outputs": [],
   "source": [
    "# !unzip ./data/05/pizza_steak_sushi_20_percent.zip"
   ]
  },
  {
   "cell_type": "code",
   "execution_count": 6,
   "id": "a5cc7e00-627a-42ea-9d74-f59ddf3760b9",
   "metadata": {
    "tags": []
   },
   "outputs": [],
   "source": [
    "train_dir = \"./data/05/train/\"\n",
    "test_dir = \"./data/05/test/\""
   ]
  },
  {
   "cell_type": "markdown",
   "id": "07491e36-f20a-44da-b174-aa675f65643d",
   "metadata": {},
   "source": [
    "## Create Datasets and Dataloaders\n",
    "\n",
    "Now've got some data, now we wanna turn it into PyTorch DataLoaders.\n",
    "\n",
    "We can use `data_setup.py`and `create_dataloaders()`\n",
    "\n",
    "Methods of transformations:\n",
    "1. Manual\n",
    "2. Automatically - the transforms are picked by pretrained model\n",
    "\n",
    "When using a pretrained model, its important that the data that you pass through is transformed in the same way that the data was trained on"
   ]
  },
  {
   "cell_type": "code",
   "execution_count": 7,
   "id": "697fdfad-59ec-4e05-b255-d287ea922d4b",
   "metadata": {
    "tags": []
   },
   "outputs": [],
   "source": [
    "# Pay attension when using pre trained models\n",
    "from going_modular.going_modular import *"
   ]
  },
  {
   "cell_type": "markdown",
   "id": "221ca663-39ef-4c3a-9f15-19ad569f62ab",
   "metadata": {},
   "source": [
    "### Create transforms manually "
   ]
  },
  {
   "cell_type": "code",
   "execution_count": 8,
   "id": "b95488f2-2584-45ea-8353-245b911336dc",
   "metadata": {
    "tags": []
   },
   "outputs": [],
   "source": [
    "from torchvision import transforms\n",
    "normalize = transforms.Normalize(mean=[0.485, 0.456, 0.406],\n",
    "                                 std=[0.229, 0.224, 0.225])"
   ]
  },
  {
   "cell_type": "code",
   "execution_count": 9,
   "id": "b887909f-4a8a-4877-8df3-32db6577cd96",
   "metadata": {
    "tags": []
   },
   "outputs": [],
   "source": [
    "manual_transforms = transforms.Compose([\n",
    "    transforms.Resize(224),\n",
    "    transforms.ToTensor(),\n",
    "    normalize\n",
    "])"
   ]
  },
  {
   "cell_type": "code",
   "execution_count": 10,
   "id": "7f8e2e69-ba06-4bd9-8170-f05b4db81c49",
   "metadata": {
    "tags": []
   },
   "outputs": [],
   "source": [
    "train_dataloader, test_dataloader, class_names = data_setup.create_dataloaders(train_dir,test_dir,manual_transforms,32)"
   ]
  },
  {
   "cell_type": "markdown",
   "id": "c8366adc-f855-4d25-82dd-b0c93edf5e5e",
   "metadata": {},
   "source": [
    "### Create transforms automatically"
   ]
  },
  {
   "cell_type": "code",
   "execution_count": 11,
   "id": "ca507664-faf0-4de6-ae6f-23b2bf92c812",
   "metadata": {
    "tags": []
   },
   "outputs": [],
   "source": [
    "import torchvision"
   ]
  },
  {
   "cell_type": "code",
   "execution_count": 12,
   "id": "21125718-c63a-4fb5-9f9e-644e91695d10",
   "metadata": {
    "tags": []
   },
   "outputs": [],
   "source": [
    "weights = torchvision.models.EfficientNet_V2_M_Weights.IMAGENET1K_V1 # Default = best weight"
   ]
  },
  {
   "cell_type": "code",
   "execution_count": 13,
   "id": "44817c3c-bc99-4cdb-9bf9-04a156b12347",
   "metadata": {
    "tags": []
   },
   "outputs": [
    {
     "data": {
      "text/plain": [
       "EfficientNet_V2_M_Weights.IMAGENET1K_V1"
      ]
     },
     "execution_count": 13,
     "metadata": {},
     "output_type": "execute_result"
    }
   ],
   "source": [
    "weights"
   ]
  },
  {
   "cell_type": "code",
   "execution_count": 14,
   "id": "5eb953bb-f482-48c3-8888-c31988a79713",
   "metadata": {
    "tags": []
   },
   "outputs": [],
   "source": [
    "# Get the transforms used to create our pretrained weights\n",
    "auto_transforms= weights.transforms()"
   ]
  },
  {
   "cell_type": "code",
   "execution_count": 15,
   "id": "11eb573b-3c1e-4320-9fc0-50676aae9eea",
   "metadata": {
    "tags": []
   },
   "outputs": [
    {
     "data": {
      "text/plain": [
       "ImageClassification(\n",
       "    crop_size=[480]\n",
       "    resize_size=[480]\n",
       "    mean=[0.485, 0.456, 0.406]\n",
       "    std=[0.229, 0.224, 0.225]\n",
       "    interpolation=InterpolationMode.BILINEAR\n",
       ")"
      ]
     },
     "execution_count": 15,
     "metadata": {},
     "output_type": "execute_result"
    }
   ],
   "source": [
    "auto_transforms"
   ]
  },
  {
   "cell_type": "code",
   "execution_count": 16,
   "id": "bb919e05-8f25-4874-a38c-e81431e9ddbf",
   "metadata": {
    "tags": []
   },
   "outputs": [],
   "source": [
    "train_dataloader, test_dataloader, class_names = data_setup.create_dataloaders(train_dir,test_dir,auto_transforms,32)"
   ]
  },
  {
   "cell_type": "markdown",
   "id": "3c85eb11-8c8f-4ce5-a932-7df53b85109a",
   "metadata": {},
   "source": [
    "## Getting a Pretrained model"
   ]
  },
  {
   "cell_type": "markdown",
   "id": "366fe480-dfd7-45dd-90f1-51a7d0a0b6ed",
   "metadata": {},
   "source": [
    "### Which pretrained model should you use?\n",
    "\n",
    "*Experiment, experiment, experiment!*\n",
    "\n",
    "The whole idea of transfer learning is to take an already well performing model from a problem space similar to your own and then customize to your own problem.\n",
    "\n",
    "Three things to consider:\n",
    "1. Speed - how fast does it run?\n",
    "2. Size - how big is it?\n",
    "3. Performance - how accuracte is it?\n",
    "\n",
    "Where would the model live?"
   ]
  },
  {
   "cell_type": "markdown",
   "id": "5cd6ecd6-5b9d-46c4-9aa0-1531543df012",
   "metadata": {},
   "source": [
    "### Setting up a pretrained model"
   ]
  },
  {
   "cell_type": "code",
   "execution_count": 17,
   "id": "aee5626c-9651-4e63-ad22-adebd01cbf7d",
   "metadata": {
    "tags": []
   },
   "outputs": [
    {
     "name": "stderr",
     "output_type": "stream",
     "text": [
      "/home/user/anaconda3/lib/python3.11/site-packages/torchvision/models/_utils.py:135: UserWarning: Using 'weights' as positional parameter(s) is deprecated since 0.13 and may be removed in the future. Please use keyword parameter(s) instead.\n",
      "  warnings.warn(\n",
      "Downloading: \"https://download.pytorch.org/models/efficientnet_v2_m-dc08266a.pth\" to /home/user/.cache/torch/hub/checkpoints/efficientnet_v2_m-dc08266a.pth\n",
      "100%|███████████████████████████████████████████████████████████████████████████████████████████████████████████████████████████████████████████████████████████████████████████| 208M/208M [02:13<00:00, 1.63MB/s]\n"
     ]
    }
   ],
   "source": [
    "model = torchvision.models.efficientnet_v2_m(weights)"
   ]
  },
  {
   "cell_type": "code",
   "execution_count": 19,
   "id": "1b82bcb1-5918-4a3c-91b2-8b2354d43183",
   "metadata": {
    "tags": []
   },
   "outputs": [],
   "source": [
    "# model"
   ]
  },
  {
   "cell_type": "code",
   "execution_count": 21,
   "id": "6dfd9fe7-fc0d-4254-8ab1-5c2ebc8106c8",
   "metadata": {
    "tags": []
   },
   "outputs": [
    {
     "data": {
      "text/plain": [
       "AdaptiveAvgPool2d(output_size=1)"
      ]
     },
     "execution_count": 21,
     "metadata": {},
     "output_type": "execute_result"
    }
   ],
   "source": [
    "model.avgpool"
   ]
  },
  {
   "cell_type": "code",
   "execution_count": 27,
   "id": "977ab3bf-9b27-42f2-90ae-d2855256a588",
   "metadata": {
    "tags": []
   },
   "outputs": [],
   "source": [
    "# model.classifier[1] = torch.nn.Linear(1280,len(class_names),bias=True)"
   ]
  },
  {
   "cell_type": "markdown",
   "id": "b1622b39-07ad-4678-ba0e-c1eabcc0d694",
   "metadata": {
    "tags": []
   },
   "source": [
    "### Getting a summary of our model with torchinfo"
   ]
  },
  {
   "cell_type": "code",
   "execution_count": 31,
   "id": "c5e5d1f6-860e-4cd8-a5a6-4de2e52ad63c",
   "metadata": {
    "tags": []
   },
   "outputs": [],
   "source": [
    "from torchinfo import summary"
   ]
  },
  {
   "cell_type": "code",
   "execution_count": 35,
   "id": "99b7b8e2-0023-4059-91e9-0213eb150bb5",
   "metadata": {
    "tags": []
   },
   "outputs": [
    {
     "data": {
      "text/plain": [
       "============================================================================================================================================\n",
       "Layer (type (var_name))                                      Input Shape          Output Shape         Param #              Trainable\n",
       "============================================================================================================================================\n",
       "EfficientNet (EfficientNet)                                  [1, 3, 224, 224]     [1, 3]               --                   True\n",
       "├─Sequential (features)                                      [1, 3, 224, 224]     [1, 1280, 7, 7]      --                   True\n",
       "│    └─Conv2dNormActivation (0)                              [1, 3, 224, 224]     [1, 24, 112, 112]    --                   True\n",
       "│    │    └─Conv2d (0)                                       [1, 3, 224, 224]     [1, 24, 112, 112]    648                  True\n",
       "│    │    └─BatchNorm2d (1)                                  [1, 24, 112, 112]    [1, 24, 112, 112]    48                   True\n",
       "│    │    └─SiLU (2)                                         [1, 24, 112, 112]    [1, 24, 112, 112]    --                   --\n",
       "│    └─Sequential (1)                                        [1, 24, 112, 112]    [1, 24, 112, 112]    --                   True\n",
       "│    │    └─FusedMBConv (0)                                  [1, 24, 112, 112]    [1, 24, 112, 112]    5,232                True\n",
       "│    │    └─FusedMBConv (1)                                  [1, 24, 112, 112]    [1, 24, 112, 112]    5,232                True\n",
       "│    │    └─FusedMBConv (2)                                  [1, 24, 112, 112]    [1, 24, 112, 112]    5,232                True\n",
       "│    └─Sequential (2)                                        [1, 24, 112, 112]    [1, 48, 56, 56]      --                   True\n",
       "│    │    └─FusedMBConv (0)                                  [1, 24, 112, 112]    [1, 48, 56, 56]      25,632               True\n",
       "│    │    └─FusedMBConv (1)                                  [1, 48, 56, 56]      [1, 48, 56, 56]      92,640               True\n",
       "│    │    └─FusedMBConv (2)                                  [1, 48, 56, 56]      [1, 48, 56, 56]      92,640               True\n",
       "│    │    └─FusedMBConv (3)                                  [1, 48, 56, 56]      [1, 48, 56, 56]      92,640               True\n",
       "│    │    └─FusedMBConv (4)                                  [1, 48, 56, 56]      [1, 48, 56, 56]      92,640               True\n",
       "│    └─Sequential (3)                                        [1, 48, 56, 56]      [1, 80, 28, 28]      --                   True\n",
       "│    │    └─FusedMBConv (0)                                  [1, 48, 56, 56]      [1, 80, 28, 28]      98,848               True\n",
       "│    │    └─FusedMBConv (1)                                  [1, 80, 28, 28]      [1, 80, 28, 28]      256,800              True\n",
       "│    │    └─FusedMBConv (2)                                  [1, 80, 28, 28]      [1, 80, 28, 28]      256,800              True\n",
       "│    │    └─FusedMBConv (3)                                  [1, 80, 28, 28]      [1, 80, 28, 28]      256,800              True\n",
       "│    │    └─FusedMBConv (4)                                  [1, 80, 28, 28]      [1, 80, 28, 28]      256,800              True\n",
       "│    └─Sequential (4)                                        [1, 80, 28, 28]      [1, 160, 14, 14]     --                   True\n",
       "│    │    └─MBConv (0)                                       [1, 80, 28, 28]      [1, 160, 14, 14]     94,420               True\n",
       "│    │    └─MBConv (1)                                       [1, 160, 14, 14]     [1, 160, 14, 14]     265,320              True\n",
       "│    │    └─MBConv (2)                                       [1, 160, 14, 14]     [1, 160, 14, 14]     265,320              True\n",
       "│    │    └─MBConv (3)                                       [1, 160, 14, 14]     [1, 160, 14, 14]     265,320              True\n",
       "│    │    └─MBConv (4)                                       [1, 160, 14, 14]     [1, 160, 14, 14]     265,320              True\n",
       "│    │    └─MBConv (5)                                       [1, 160, 14, 14]     [1, 160, 14, 14]     265,320              True\n",
       "│    │    └─MBConv (6)                                       [1, 160, 14, 14]     [1, 160, 14, 14]     265,320              True\n",
       "│    └─Sequential (5)                                        [1, 160, 14, 14]     [1, 176, 14, 14]     --                   True\n",
       "│    │    └─MBConv (0)                                       [1, 160, 14, 14]     [1, 176, 14, 14]     413,192              True\n",
       "│    │    └─MBConv (1)                                       [1, 176, 14, 14]     [1, 176, 14, 14]     479,820              True\n",
       "│    │    └─MBConv (2)                                       [1, 176, 14, 14]     [1, 176, 14, 14]     479,820              True\n",
       "│    │    └─MBConv (3)                                       [1, 176, 14, 14]     [1, 176, 14, 14]     479,820              True\n",
       "│    │    └─MBConv (4)                                       [1, 176, 14, 14]     [1, 176, 14, 14]     479,820              True\n",
       "│    │    └─MBConv (5)                                       [1, 176, 14, 14]     [1, 176, 14, 14]     479,820              True\n",
       "│    │    └─MBConv (6)                                       [1, 176, 14, 14]     [1, 176, 14, 14]     479,820              True\n",
       "│    │    └─MBConv (7)                                       [1, 176, 14, 14]     [1, 176, 14, 14]     479,820              True\n",
       "│    │    └─MBConv (8)                                       [1, 176, 14, 14]     [1, 176, 14, 14]     479,820              True\n",
       "│    │    └─MBConv (9)                                       [1, 176, 14, 14]     [1, 176, 14, 14]     479,820              True\n",
       "│    │    └─MBConv (10)                                      [1, 176, 14, 14]     [1, 176, 14, 14]     479,820              True\n",
       "│    │    └─MBConv (11)                                      [1, 176, 14, 14]     [1, 176, 14, 14]     479,820              True\n",
       "│    │    └─MBConv (12)                                      [1, 176, 14, 14]     [1, 176, 14, 14]     479,820              True\n",
       "│    │    └─MBConv (13)                                      [1, 176, 14, 14]     [1, 176, 14, 14]     479,820              True\n",
       "│    └─Sequential (6)                                        [1, 176, 14, 14]     [1, 304, 7, 7]       --                   True\n",
       "│    │    └─MBConv (0)                                       [1, 176, 14, 14]     [1, 304, 7, 7]       615,244              True\n",
       "│    │    └─MBConv (1)                                       [1, 304, 7, 7]       [1, 304, 7, 7]       1,412,460            True\n",
       "│    │    └─MBConv (2)                                       [1, 304, 7, 7]       [1, 304, 7, 7]       1,412,460            True\n",
       "│    │    └─MBConv (3)                                       [1, 304, 7, 7]       [1, 304, 7, 7]       1,412,460            True\n",
       "│    │    └─MBConv (4)                                       [1, 304, 7, 7]       [1, 304, 7, 7]       1,412,460            True\n",
       "│    │    └─MBConv (5)                                       [1, 304, 7, 7]       [1, 304, 7, 7]       1,412,460            True\n",
       "│    │    └─MBConv (6)                                       [1, 304, 7, 7]       [1, 304, 7, 7]       1,412,460            True\n",
       "│    │    └─MBConv (7)                                       [1, 304, 7, 7]       [1, 304, 7, 7]       1,412,460            True\n",
       "│    │    └─MBConv (8)                                       [1, 304, 7, 7]       [1, 304, 7, 7]       1,412,460            True\n",
       "│    │    └─MBConv (9)                                       [1, 304, 7, 7]       [1, 304, 7, 7]       1,412,460            True\n",
       "│    │    └─MBConv (10)                                      [1, 304, 7, 7]       [1, 304, 7, 7]       1,412,460            True\n",
       "│    │    └─MBConv (11)                                      [1, 304, 7, 7]       [1, 304, 7, 7]       1,412,460            True\n",
       "│    │    └─MBConv (12)                                      [1, 304, 7, 7]       [1, 304, 7, 7]       1,412,460            True\n",
       "│    │    └─MBConv (13)                                      [1, 304, 7, 7]       [1, 304, 7, 7]       1,412,460            True\n",
       "│    │    └─MBConv (14)                                      [1, 304, 7, 7]       [1, 304, 7, 7]       1,412,460            True\n",
       "│    │    └─MBConv (15)                                      [1, 304, 7, 7]       [1, 304, 7, 7]       1,412,460            True\n",
       "│    │    └─MBConv (16)                                      [1, 304, 7, 7]       [1, 304, 7, 7]       1,412,460            True\n",
       "│    │    └─MBConv (17)                                      [1, 304, 7, 7]       [1, 304, 7, 7]       1,412,460            True\n",
       "│    └─Sequential (7)                                        [1, 304, 7, 7]       [1, 512, 7, 7]       --                   True\n",
       "│    │    └─MBConv (0)                                       [1, 304, 7, 7]       [1, 512, 7, 7]       1,792,268            True\n",
       "│    │    └─MBConv (1)                                       [1, 512, 7, 7]       [1, 512, 7, 7]       3,976,320            True\n",
       "│    │    └─MBConv (2)                                       [1, 512, 7, 7]       [1, 512, 7, 7]       3,976,320            True\n",
       "│    │    └─MBConv (3)                                       [1, 512, 7, 7]       [1, 512, 7, 7]       3,976,320            True\n",
       "│    │    └─MBConv (4)                                       [1, 512, 7, 7]       [1, 512, 7, 7]       3,976,320            True\n",
       "│    └─Conv2dNormActivation (8)                              [1, 512, 7, 7]       [1, 1280, 7, 7]      --                   True\n",
       "│    │    └─Conv2d (0)                                       [1, 512, 7, 7]       [1, 1280, 7, 7]      655,360              True\n",
       "│    │    └─BatchNorm2d (1)                                  [1, 1280, 7, 7]      [1, 1280, 7, 7]      2,560                True\n",
       "│    │    └─SiLU (2)                                         [1, 1280, 7, 7]      [1, 1280, 7, 7]      --                   --\n",
       "├─AdaptiveAvgPool2d (avgpool)                                [1, 1280, 7, 7]      [1, 1280, 1, 1]      --                   --\n",
       "├─Sequential (classifier)                                    [1, 1280]            [1, 3]               --                   True\n",
       "│    └─Dropout (0)                                           [1, 1280]            [1, 1280]            --                   --\n",
       "│    └─Linear (1)                                            [1, 1280]            [1, 3]               3,843                True\n",
       "============================================================================================================================================\n",
       "Total params: 52,862,199\n",
       "Trainable params: 52,862,199\n",
       "Non-trainable params: 0\n",
       "Total mult-adds (Units.GIGABYTES): 5.36\n",
       "============================================================================================================================================\n",
       "Input size (MB): 0.60\n",
       "Forward/backward pass size (MB): 313.34\n",
       "Params size (MB): 211.45\n",
       "Estimated Total Size (MB): 525.39\n",
       "============================================================================================================================================"
      ]
     },
     "execution_count": 35,
     "metadata": {},
     "output_type": "execute_result"
    }
   ],
   "source": [
    "summary(model,input_size=(1,3,224,224),col_names=['input_size','output_size','num_params','trainable'],col_width=20,row_settings=['var_names'])"
   ]
  },
  {
   "cell_type": "code",
   "execution_count": null,
   "id": "eb899139-dd92-4e57-adf9-65ba8f5db1ed",
   "metadata": {},
   "outputs": [],
   "source": []
  }
 ],
 "metadata": {
  "kernelspec": {
   "display_name": "Python 3 (ipykernel)",
   "language": "python",
   "name": "python3"
  },
  "language_info": {
   "codemirror_mode": {
    "name": "ipython",
    "version": 3
   },
   "file_extension": ".py",
   "mimetype": "text/x-python",
   "name": "python",
   "nbconvert_exporter": "python",
   "pygments_lexer": "ipython3",
   "version": "3.11.3"
  }
 },
 "nbformat": 4,
 "nbformat_minor": 5
}
