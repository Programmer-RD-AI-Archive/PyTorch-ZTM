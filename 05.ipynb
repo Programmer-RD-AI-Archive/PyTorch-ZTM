{
 "cells": [
  {
   "cell_type": "markdown",
   "id": "1bd9ec5f-fbb8-4f28-b911-1f2b31927c67",
   "metadata": {},
   "source": [
    "# What is Transfer learning?\n",
    "\n",
    "Transfer learning is a technique in machine learning in which knowledge learned from a task is re-used in order to boost performance on a related task. For example, for image classification, knowledge gained while learning to recognize cars could be applied when trying to recognize trucks. Wikipedia\n",
    "\n",
    "## Why use transfer learning?\n",
    "1. Can leverage an existing neural network architecture proven to work on problems similar to our own\n",
    "2. Can leverage a woring network architecture which has already learned patterns on similar data to our own (so great performence with low data)"
   ]
  },
  {
   "cell_type": "code",
   "execution_count": 1,
   "id": "1129b80d-f36f-46b9-9355-e9e2968c681f",
   "metadata": {
    "tags": []
   },
   "outputs": [
    {
     "data": {
      "text/plain": [
       "('2.1.0.dev20230713', '0.16.0.dev20230713')"
      ]
     },
     "execution_count": 1,
     "metadata": {},
     "output_type": "execute_result"
    }
   ],
   "source": [
    "import torch\n",
    "import torchvision\n",
    "torch.__version__,torchvision.__version__"
   ]
  },
  {
   "cell_type": "markdown",
   "id": "80b49efd-6111-4b27-92d9-4ba282874484",
   "metadata": {},
   "source": [
    "Now we've got the versions of torch and torchvision, we're after, let's import the code we've writte in previous section "
   ]
  },
  {
   "cell_type": "code",
   "execution_count": 5,
   "id": "c1d9b7cd-1612-41db-8745-0ddd226442d3",
   "metadata": {
    "tags": []
   },
   "outputs": [],
   "source": [
    "# Continue with regular imports\n",
    "import matplotlib.pyplot as plt\n",
    "import torch\n",
    "import torchvision\n",
    "\n",
    "from torch import nn\n",
    "from torchvision import transforms\n",
    "\n",
    "# Try to get torchinfo, install it if it doesn't work\n",
    "try:\n",
    "    from torchinfo import summary\n",
    "except:\n",
    "    print(\"[INFO] Couldn't find torchinfo... installing it.\")\n",
    "    !pip install -q torchinfo\n",
    "    from torchinfo import summary\n",
    "\n",
    "# Try to import the going_modular directory, download it from GitHub if it doesn't work\n",
    "try:\n",
    "    from going_modular.going_modular import data_setup, engine\n",
    "except:\n",
    "    # Get the going_modular scripts\n",
    "    print(\"[INFO] Couldn't find going_modular scripts... downloading them from GitHub.\")\n",
    "    !git clone https://github.com/mrdbourke/pytorch-deep-learning\n",
    "    !mv pytorch-deep-learning/going_modular .\n",
    "    !mv pytorch-deep-learning/data/pizza_steak_sushi_20_percent.zip ./data/05\n",
    "    !unzip ./data/05/pizza_steak_sushi_20_percent.zip\n",
    "    # !rm -rf pytorch-deep-learning\n",
    "    from going_modular.going_modular import data_setup, engine"
   ]
  },
  {
   "cell_type": "code",
   "execution_count": 6,
   "id": "d91a1f33-88a5-41b1-81e2-ad03cde5b3a1",
   "metadata": {
    "tags": []
   },
   "outputs": [],
   "source": [
    "device = 'cuda' if torch.cuda.is_available() else 'cpu'"
   ]
  },
  {
   "cell_type": "code",
   "execution_count": 7,
   "id": "e844a820-6e66-4589-9424-06c8c57bec42",
   "metadata": {
    "tags": []
   },
   "outputs": [
    {
     "name": "stdout",
     "output_type": "stream",
     "text": [
      "Fri Jul 14 15:57:29 2023       \n",
      "+-----------------------------------------------------------------------------+\n",
      "| NVIDIA-SMI 525.125.06   Driver Version: 525.125.06   CUDA Version: 12.0     |\n",
      "|-------------------------------+----------------------+----------------------+\n",
      "| GPU  Name        Persistence-M| Bus-Id        Disp.A | Volatile Uncorr. ECC |\n",
      "| Fan  Temp  Perf  Pwr:Usage/Cap|         Memory-Usage | GPU-Util  Compute M. |\n",
      "|                               |                      |               MIG M. |\n",
      "|===============================+======================+======================|\n",
      "|   0  NVIDIA GeForce ...  Off  | 00000000:26:00.0  On |                  N/A |\n",
      "|  0%   47C    P8    11W / 170W |    561MiB / 12288MiB |     20%      Default |\n",
      "|                               |                      |                  N/A |\n",
      "+-------------------------------+----------------------+----------------------+\n",
      "                                                                               \n",
      "+-----------------------------------------------------------------------------+\n",
      "| Processes:                                                                  |\n",
      "|  GPU   GI   CI        PID   Type   Process name                  GPU Memory |\n",
      "|        ID   ID                                                   Usage      |\n",
      "|=============================================================================|\n",
      "|    0   N/A  N/A       962      G   /usr/lib/xorg/Xorg                302MiB |\n",
      "|    0   N/A  N/A      1240      G   /usr/bin/gnome-shell               46MiB |\n",
      "|    0   N/A  N/A      1613      G   ...158999189576873813,262144      167MiB |\n",
      "|    0   N/A  N/A     22205      G   ...AAAAAAAAA= --shared-files        9MiB |\n",
      "|    0   N/A  N/A     25300      G   ...RendererForSitePerProcess       19MiB |\n",
      "|    0   N/A  N/A     33805      G   ...features=BackForwardCache        8MiB |\n",
      "+-----------------------------------------------------------------------------+\n"
     ]
    }
   ],
   "source": [
    "!nvidia-smi"
   ]
  },
  {
   "cell_type": "markdown",
   "id": "7d096286-9403-4eba-93f8-8be7520ef5d0",
   "metadata": {
    "tags": []
   },
   "source": [
    "##  Get data\n",
    "\n",
    "We need our pizza, steak, sushi data to build a transfer learning model"
   ]
  },
  {
   "cell_type": "code",
   "execution_count": 10,
   "id": "dd6e69cc-da20-4ecf-9c69-bd3ddeff770c",
   "metadata": {
    "tags": []
   },
   "outputs": [],
   "source": [
    "# !unzip ./data/05/pizza_steak_sushi_20_percent.zip"
   ]
  },
  {
   "cell_type": "code",
   "execution_count": null,
   "id": "a5cc7e00-627a-42ea-9d74-f59ddf3760b9",
   "metadata": {},
   "outputs": [],
   "source": []
  }
 ],
 "metadata": {
  "kernelspec": {
   "display_name": "Python 3 (ipykernel)",
   "language": "python",
   "name": "python3"
  },
  "language_info": {
   "codemirror_mode": {
    "name": "ipython",
    "version": 3
   },
   "file_extension": ".py",
   "mimetype": "text/x-python",
   "name": "python",
   "nbconvert_exporter": "python",
   "pygments_lexer": "ipython3",
   "version": "3.11.3"
  }
 },
 "nbformat": 4,
 "nbformat_minor": 5
}
