{
 "cells": [
  {
   "cell_type": "markdown",
   "id": "d2b493b7-ef5e-4612-b094-52d84aac0ff3",
   "metadata": {},
   "source": [
    "## What is a machine learning research paper?\n",
    "\n",
    "A machine learning research paper is a scientific paper that details findings of a research group on a specific area.\n",
    "\n",
    "The contents of a machine learning research paper can vary from paper to paper but they generally follow the structure:\n",
    "\n",
    "| **Section** | **Contents** |\n",
    "| ----- | ----- | \n",
    "| **Abstract** | An overview/summary of the paper's main findings/contributions. |\n",
    "| **Introduction** | What's the paper's main problem and details of previous methods used to try and solve it. |\n",
    "| **Method** | How did the researchers go about conducting their research? For example, what model(s), data sources, training setups were used? |\n",
    "| **Results** | What are the outcomes of the paper? If a new type of model or training setup was used, how did the results of findings compare to previous works? (this is where **experiment tracking** comes in handy) |\n",
    "| **Conclusion** | What are the limitations of the suggested methods? What are some next steps for the research community? |\n",
    "| **References** | What resources/other papers did the researchers look at to build their own body of work? |\n",
    "| **Appendix** | Are there any extra resources/findings to look at that weren't included in any of the above sections? |"
   ]
  },
  {
   "cell_type": "markdown",
   "id": "5b1027c4-d79e-450f-a9b5-730d38c1af0b",
   "metadata": {},
   "source": [
    "## What we are going to cover?\n",
    "\n",
    "- Getting Setup\n",
    "\n",
    "- Introduction machine learning paper replicating weith Pytorch\n",
    "\n",
    "- Replicating ViT for Foodvisio nMini\n",
    "\n",
    "- Training ViT\n",
    "\n",
    "- Feature Exrtaction with pretrained ViT"
   ]
  },
  {
   "cell_type": "code",
   "execution_count": null,
   "id": "11515136-239e-4886-8f07-1c5cf254383e",
   "metadata": {},
   "outputs": [],
   "source": []
  }
 ],
 "metadata": {
  "kernelspec": {
   "display_name": "Python 3 (ipykernel)",
   "language": "python",
   "name": "python3"
  },
  "language_info": {
   "codemirror_mode": {
    "name": "ipython",
    "version": 3
   },
   "file_extension": ".py",
   "mimetype": "text/x-python",
   "name": "python",
   "nbconvert_exporter": "python",
   "pygments_lexer": "ipython3",
   "version": "3.11.3"
  }
 },
 "nbformat": 4,
 "nbformat_minor": 5
}
