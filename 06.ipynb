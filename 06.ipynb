{
 "cells": [
  {
   "cell_type": "code",
   "execution_count": 1,
   "id": "36b201f6-5ca0-4a27-80ba-52002d17fd8d",
   "metadata": {
    "tags": []
   },
   "outputs": [],
   "source": [
    "import torch.nn.functional as F"
   ]
  },
  {
   "cell_type": "code",
   "execution_count": 3,
   "id": "51230b85-9fb5-439b-b70a-2908b598341f",
   "metadata": {
    "tags": []
   },
   "outputs": [],
   "source": [
    "import torchtext.functional as F\n"
   ]
  },
  {
   "cell_type": "code",
   "execution_count": 7,
   "id": "46206105-8864-4466-b1eb-1df21696cccf",
   "metadata": {
    "tags": []
   },
   "outputs": [
    {
     "data": {
      "text/plain": [
       "tensor([1, 2, 3])"
      ]
     },
     "execution_count": 7,
     "metadata": {},
     "output_type": "execute_result"
    }
   ],
   "source": [
    "F.to_tensor([1,2,3],padding_value=5)"
   ]
  },
  {
   "cell_type": "code",
   "execution_count": null,
   "id": "6dbd7aae-0a59-457e-b33e-465d1eb153c1",
   "metadata": {},
   "outputs": [],
   "source": []
  }
 ],
 "metadata": {
  "kernelspec": {
   "display_name": "Python 3 (ipykernel)",
   "language": "python",
   "name": "python3"
  },
  "language_info": {
   "codemirror_mode": {
    "name": "ipython",
    "version": 3
   },
   "file_extension": ".py",
   "mimetype": "text/x-python",
   "name": "python",
   "nbconvert_exporter": "python",
   "pygments_lexer": "ipython3",
   "version": "3.11.3"
  }
 },
 "nbformat": 4,
 "nbformat_minor": 5
}
